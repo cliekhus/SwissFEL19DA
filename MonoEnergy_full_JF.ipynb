{
 "cells": [
  {
   "cell_type": "code",
   "execution_count": 1,
   "metadata": {
    "collapsed": true
   },
   "outputs": [],
   "source": [
    "import sys\n",
    "sys.path.insert(0, '/das/work/p17/p17983/')"
   ]
  },
  {
   "cell_type": "code",
   "execution_count": 2,
   "metadata": {},
   "outputs": [
    {
     "name": "stdout",
     "output_type": "stream",
     "text": [
      "[INFO][corrections] Numba not available, reverting to Numpy\n"
     ]
    }
   ],
   "source": [
    "%matplotlib nbagg\n",
    "import jungfrau_utils as ju\n",
    "import numpy as np\n",
    "import json\n",
    "import os\n",
    "import time\n",
    "from matplotlib import pyplot as plt\n",
    "from scipy.optimize import curve_fit\n",
    "\n",
    "import h5py\n",
    "\n",
    "from alvra_tools.load_data import *\n",
    "from alvra_tools.channels import *"
   ]
  },
  {
   "cell_type": "code",
   "execution_count": 3,
   "metadata": {},
   "outputs": [
    {
     "name": "stdout",
     "output_type": "stream",
     "text": [
      "Dimensions of G:  (4, 4608, 1024)\n",
      "Dimensions of P:  (4, 4608, 1024)\n",
      "Dimensions of mask:  (4608, 1024)\n"
     ]
    }
   ],
   "source": [
    "pede_file = \"/sf/alvra/data/p17983/res/JF_pedestals/pedestal_20190728_1644.JF02T09V02.res.h5\"\n",
    "gain_file = \"/sf/alvra/config/jungfrau/gainMaps/JF02T09V02/gains.h5\"\n",
    "\n",
    "with h5py.File(gain_file, \"r\") as file: \n",
    "    G = file[\"gains\"][:]\n",
    "    \n",
    "with h5py.File(pede_file, \"r\") as file: \n",
    "    P = file[\"gains\"][:]\n",
    "    mask = file[\"pixel_mask\"][:]\n",
    "\n",
    "print(\"Dimensions of G: \", G.shape)\n",
    "print(\"Dimensions of P: \", P.shape)\n",
    "print(\"Dimensions of mask: \", mask.shape)\n",
    "\n",
    "# Detector name for loading module map and applying geometry\n",
    "detector_name = \"JF02T09V02\""
   ]
  },
  {
   "cell_type": "code",
   "execution_count": 4,
   "metadata": {
    "collapsed": true,
    "scrolled": true
   },
   "outputs": [],
   "source": [
    "#N_shots_to_use = 5\n",
    "N_shots_to_use = None"
   ]
  },
  {
   "cell_type": "code",
   "execution_count": 5,
   "metadata": {
    "collapsed": true
   },
   "outputs": [],
   "source": [
    "def loadJF_full(DIR, jffilename, G, P, mask, N_shots_to_use, bsreadfile, channel_BS_pulse_ids):\n",
    "    \n",
    "    numstds = 2\n",
    "    minIzero = 0.002\n",
    "    image_threshold = 1\n",
    "    hot_pixel = 8\n",
    "    \n",
    "    jf_file = h5py.File(DIR + jffilename, \"r\")\n",
    "\n",
    "    print(jf_file)\n",
    "\n",
    "    images = jf_file[f\"data/{detector_name}\" + channel_JF_images]\n",
    "    pulse_ids = jf_file[f\"data/{detector_name}\" + channel_JF_pulse_ids]\n",
    "    \n",
    "    try:\n",
    "        module_maps = jf_file[f\"/data/{detector_name}/module_map\"]\n",
    "    except:\n",
    "        module_maps = None\n",
    "    \n",
    "    nframes = images.shape[0]\n",
    "    \n",
    "    total = 0\n",
    "    \n",
    "    for i in range(nframes):\n",
    "        image = images[i, :]\n",
    "        module_map = module_maps[i, :]\n",
    "        image, mask = apply_module_map(image, module_map, mask)\n",
    "        image = ju.apply_gain_pede(image, G=G, P=P, pixel_mask=mask, highgain=False)#[roi[0][0]:roi[0][1], roi[1][0]:roi[1][1]]\n",
    "        image_thr = image.copy()\n",
    "        image_thr[image < 2] = 0\n",
    "        total += image_thr\n",
    "        \n",
    "    total_corr = ju.apply_geometry(total, detector_name)\n",
    "\n",
    "    XES = np.sum(total_corr,axis=0)\n",
    "    \n",
    "    return XES, total_corr"
   ]
  },
  {
   "cell_type": "code",
   "execution_count": null,
   "metadata": {
    "scrolled": false
   },
   "outputs": [
    {
     "name": "stdout",
     "output_type": "stream",
     "text": [
      "RuDimerACN_monoscan_10ps_003\n",
      "<HDF5 file \"RuDimerACN_monoscan_10ps_003_step0023.JF02T09V02.h5\" (mode r)>\n",
      "3\n",
      "RuDimerACN_monoscan_10ps_005\n",
      "<HDF5 file \"RuDimerACN_monoscan_10ps_005_step0023.JF02T09V02.h5\" (mode r)>\n",
      "5\n",
      "RuDimerACN_monoscan_10ps_008\n",
      "<HDF5 file \"RuDimerACN_monoscan_10ps_008_step0023.JF02T09V02.h5\" (mode r)>\n",
      "8\n",
      "RuDimerACN_monoscan_10ps_010\n",
      "<HDF5 file \"RuDimerACN_monoscan_10ps_010_step0023.JF02T09V02.h5\" (mode r)>\n",
      "10\n",
      "RuDimerACN_monoscan_10ps_013\n",
      "<HDF5 file \"RuDimerACN_monoscan_10ps_013_step0023.JF02T09V02.h5\" (mode r)>\n",
      "13\n",
      "RuDimerACN_monoscan_10ps_014\n",
      "<HDF5 file \"RuDimerACN_monoscan_10ps_014_step0023.JF02T09V02.h5\" (mode r)>\n"
     ]
    }
   ],
   "source": [
    "for jj in [3,5,8,10,13,14,15,16,17,18]:\n",
    "    \n",
    "    filename_root = \"RuDimerACN_monoscan_10ps_\" + '%03d' % (jj)\n",
    "    \n",
    "    print(filename_root)\n",
    "    \n",
    "    jffilename = filename_root + '_step00' + str(23) + \".JF02T09V02.h5\"\n",
    "    bsreadfile = filename_root + '_step00' + str(23) + \".BSREAD.h5\"\n",
    "\n",
    "    DIR = \"/sf/alvra/data/p17983/raw/scan_data/RuDimerACN_monoscan_10ps_\" + '%03d' % (jj) + \"/\"\n",
    "    \n",
    "    xes, vhimage = loadJF_full(DIR, jffilename, G, P, mask, N_shots_to_use, bsreadfile, channel_BS_pulse_ids)\n",
    "    print(jj)\n",
    "    \n",
    "    if jj == 3:\n",
    "        VH_sum = vhimage\n",
    "        XES = xes\n",
    "    else:\n",
    "        VH_sum += vhimage\n",
    "        XES += xes\n"
   ]
  },
  {
   "cell_type": "code",
   "execution_count": null,
   "metadata": {
    "scrolled": false
   },
   "outputs": [],
   "source": [
    "VH_sum = np.load('20_scan_mono_XES.npy', allow_pickle=True)\n",
    "\n",
    "plt.figure()\n",
    "plt.imshow(VH_sum, origin=\"lower\", aspect='auto', vmin=0, vmax=10)\n",
    "plt.colorbar()\n",
    "plt.title('total_laser_corrected')\n",
    "plt.tight_layout()\n",
    "plt.show()"
   ]
  }
 ],
 "metadata": {
  "kernelspec": {
   "display_name": "Python [conda env:dev]",
   "language": "python",
   "name": "conda-env-dev-py"
  },
  "language_info": {
   "codemirror_mode": {
    "name": "ipython",
    "version": 3
   },
   "file_extension": ".py",
   "mimetype": "text/x-python",
   "name": "python",
   "nbconvert_exporter": "python",
   "pygments_lexer": "ipython3",
   "version": "3.6.7"
  }
 },
 "nbformat": 4,
 "nbformat_minor": 2
}
