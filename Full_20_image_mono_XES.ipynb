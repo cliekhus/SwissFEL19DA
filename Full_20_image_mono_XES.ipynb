{
 "cells": [
  {
   "cell_type": "code",
   "execution_count": 1,
   "metadata": {
    "collapsed": true
   },
   "outputs": [],
   "source": [
    "import sys\n",
    "sys.path.insert(0, '/das/work/p17/p17983/')"
   ]
  },
  {
   "cell_type": "code",
   "execution_count": 2,
   "metadata": {},
   "outputs": [
    {
     "name": "stdout",
     "output_type": "stream",
     "text": [
      "[INFO][corrections] Numba not available, reverting to Numpy\n"
     ]
    }
   ],
   "source": [
    "%matplotlib nbagg\n",
    "import jungfrau_utils as ju\n",
    "import numpy as np\n",
    "import json\n",
    "import os\n",
    "import time\n",
    "from matplotlib import pyplot as plt\n",
    "from scipy.optimize import curve_fit\n",
    "\n",
    "import h5py\n",
    "\n",
    "from alvra_tools.load_data import *\n",
    "from alvra_tools.channels import *"
   ]
  },
  {
   "cell_type": "code",
   "execution_count": 3,
   "metadata": {},
   "outputs": [
    {
     "name": "stdout",
     "output_type": "stream",
     "text": [
      "Dimensions of G:  (4, 4608, 1024)\n",
      "Dimensions of P:  (4, 4608, 1024)\n",
      "Dimensions of mask:  (4608, 1024)\n"
     ]
    }
   ],
   "source": [
    "pede_file = \"/sf/alvra/data/p17983/res/JF_pedestals/pedestal_20190724_1140.JF02T09V02.res.h5\"\n",
    "gain_file = \"/sf/alvra/config/jungfrau/gainMaps/JF02T09V02/gains.h5\"\n",
    "\n",
    "with h5py.File(gain_file, \"r\") as file: \n",
    "    G = file[\"gains\"][:]\n",
    "    \n",
    "with h5py.File(pede_file, \"r\") as file: \n",
    "    P = file[\"gains\"][:]\n",
    "    mask = file[\"pixel_mask\"][:]\n",
    "\n",
    "print(\"Dimensions of G: \", G.shape)\n",
    "print(\"Dimensions of P: \", P.shape)\n",
    "print(\"Dimensions of mask: \", mask.shape)\n",
    "\n",
    "# Detector name for loading module map and applying geometry\n",
    "detector_name = \"JF02T09V02\""
   ]
  },
  {
   "cell_type": "code",
   "execution_count": 4,
   "metadata": {},
   "outputs": [
    {
     "name": "stdout",
     "output_type": "stream",
     "text": [
      "There are 84 files in the folder /sf/alvra/data/p17983/raw/scan_data/Ru_foil_monoscan_001/\n"
     ]
    }
   ],
   "source": [
    "DIR = \"/sf/alvra/data/p17983/raw/scan_data/Ru_foil_monoscan_001/\"\n",
    "\n",
    "listfile = os.listdir(DIR)\n",
    "number_files = len(listfile)\n",
    "print (\"There are\",number_files,\"files in the folder\", DIR)"
   ]
  },
  {
   "cell_type": "code",
   "execution_count": 5,
   "metadata": {
    "collapsed": true,
    "scrolled": true
   },
   "outputs": [],
   "source": [
    "N_shots_to_use = 5\n",
    "#N_shots_to_use = None"
   ]
  },
  {
   "cell_type": "code",
   "execution_count": 6,
   "metadata": {
    "collapsed": true
   },
   "outputs": [],
   "source": [
    "def loadJF_full(DIR, jffilename, G, P, mask, N_shots_to_use, bsreadfile, channel_BS_pulse_ids):\n",
    "    \n",
    "    numstds = 2\n",
    "    minIzero = 0.002\n",
    "    image_threshold = 1\n",
    "    hot_pixel = 8\n",
    "    \n",
    "    (DataFluo, _, IzeroFEL, _, BS_pulse_ids, _, _, _) = \\\n",
    "        load_PumpProbe_events(DIR+bsreadfile, channel_BS_pulse_ids,nshots=N_shots_to_use*2)\n",
    "    \n",
    "    jf_file = h5py.File(DIR + jffilename, \"r\")\n",
    "\n",
    "    print(jf_file)\n",
    "\n",
    "    images = jf_file[f\"data/{detector_name}\" + channel_JF_images]\n",
    "    pulse_ids = jf_file[f\"data/{detector_name}\" + channel_JF_pulse_ids]\n",
    "    \n",
    "    try:\n",
    "        module_maps = jf_file[f\"/data/{detector_name}/module_map\"]\n",
    "    except:\n",
    "        module_maps = None\n",
    "    \n",
    "    nframes = images.shape[0]\n",
    "    \n",
    "    total = 0\n",
    "    \n",
    "    for i in range(nframes):\n",
    "        image = images[i, :]\n",
    "        module_map = module_maps[i, :]\n",
    "        image, mask = apply_module_map(image, module_map, mask)\n",
    "        image = ju.apply_gain_pede(image, G=G, P=P, pixel_mask=mask, highgain=False)#[roi[0][0]:roi[0][1], roi[1][0]:roi[1][1]]\n",
    "        image_thr = image.copy()\n",
    "        image_thr[image < 2] = 0\n",
    "        total += image_thr\n",
    "        \n",
    "    total_corr = ju.apply_geometry(total, detector_name)\n",
    "    \n",
    "    IzeroMedian = np.median(IzeroFEL)\n",
    "    IzeroSTD = np.std(IzeroFEL)\n",
    "\n",
    "#    conditionMax = IzeroFEL < IzeroMedian+numstds*IzeroSTD\n",
    "#    conditionMin = IzeroFEL > IzeroMedian-numstds*IzeroSTD\n",
    "#    conditionLow = IzeroFEL > minIzero\n",
    "#    condition = np.logical_and.reduce((conditionLow, conditionMin, conditionMax)).T[0]\n",
    "\n",
    "#    images_good = images[condition,...]\n",
    "\n",
    "#    images_thr = images_good.copy()\n",
    "#    images_thr[images_good < image_threshold] = 0\n",
    "#    images_thr[images_good > hot_pixel] = 0\n",
    "\n",
    "#    print('number of surviving frames')\n",
    "#    print(images_thr.shape[0])\n",
    "\n",
    "#    total = images_thr.sum(axis=0)/images_thr.shape[0]\n",
    "\n",
    "#    total_corr = ju.apply_geometry(total, detector_name)\n",
    "\n",
    "    XES = np.sum(total_corr,axis=0)\n",
    "    \n",
    "    return XES, total_corr"
   ]
  },
  {
   "cell_type": "code",
   "execution_count": null,
   "metadata": {
    "scrolled": false
   },
   "outputs": [
    {
     "name": "stdout",
     "output_type": "stream",
     "text": [
      "<HDF5 file \"run_000386.JF02T09V02.h5\" (mode r)>\n",
      "0\n",
      "<HDF5 file \"run_000387.JF02T09V02.h5\" (mode r)>\n",
      "1\n",
      "<HDF5 file \"run_000388.JF02T09V02.h5\" (mode r)>\n",
      "2\n",
      "<HDF5 file \"run_000389.JF02T09V02.h5\" (mode r)>\n",
      "3\n",
      "<HDF5 file \"run_000390.JF02T09V02.h5\" (mode r)>\n"
     ]
    }
   ],
   "source": [
    "for ii in range(406-386+1):\n",
    "    \n",
    "    filename_root = \"run_000\"\n",
    "\n",
    "    jffilename = filename_root + str(386+ii) + \".JF02T09V02.h5\"\n",
    "    bsreadfile = filename_root + str(386+ii) + \".BSREAD.h5\"\n",
    "\n",
    "    DIR = \"/sf/alvra/data/p17983/raw/Ru-foil/\"#scan_data/\" + scan_name + \"/\"\n",
    "    \n",
    "    xes, vhimage = loadJF_full(DIR, jffilename, G, P, mask, N_shots_to_use, bsreadfile, channel_BS_pulse_ids)\n",
    "    print(ii)\n",
    "    \n",
    "    if ii == 0:\n",
    "        VH_sum = vhimage\n",
    "        XES = xes\n",
    "    else:\n",
    "        VH_sum += vhimage\n",
    "        XES += xes"
   ]
  },
  {
   "cell_type": "code",
   "execution_count": null,
   "metadata": {
    "collapsed": true,
    "scrolled": false
   },
   "outputs": [],
   "source": [
    "plt.figure()\n",
    "plt.imshow(VH_sum, origin=\"lower\", aspect='auto', vmin=0, vmax=10)\n",
    "plt.colorbar()\n",
    "plt.title('total_laser_corrected')\n",
    "plt.tight_layout()\n",
    "plt.show()"
   ]
  },
  {
   "cell_type": "code",
   "execution_count": null,
   "metadata": {
    "collapsed": true,
    "scrolled": false
   },
   "outputs": [],
   "source": [
    "plt.figure()\n",
    "plt.plot(VH_sum.sum(axis=0))\n",
    "plt.xlabel('pixel')\n",
    "plt.title('XES')\n"
   ]
  },
  {
   "cell_type": "code",
   "execution_count": null,
   "metadata": {
    "collapsed": true
   },
   "outputs": [],
   "source": []
  }
 ],
 "metadata": {
  "kernelspec": {
   "display_name": "Python [conda env:dev]",
   "language": "python",
   "name": "conda-env-dev-py"
  },
  "language_info": {
   "codemirror_mode": {
    "name": "ipython",
    "version": 3
   },
   "file_extension": ".py",
   "mimetype": "text/x-python",
   "name": "python",
   "nbconvert_exporter": "python",
   "pygments_lexer": "ipython3",
   "version": "3.6.7"
  }
 },
 "nbformat": 4,
 "nbformat_minor": 2
}
