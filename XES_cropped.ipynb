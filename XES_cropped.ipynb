{
 "cells": [
  {
   "cell_type": "code",
   "execution_count": 1,
   "metadata": {
    "collapsed": true
   },
   "outputs": [],
   "source": [
    "import sys\n",
    "sys.path.insert(0, '/das/work/p17/p17983/')"
   ]
  },
  {
   "cell_type": "code",
   "execution_count": 2,
   "metadata": {},
   "outputs": [
    {
     "name": "stdout",
     "output_type": "stream",
     "text": [
      "[INFO][corrections] Numba not available, reverting to Numpy\n"
     ]
    }
   ],
   "source": [
    "%matplotlib nbagg\n",
    "import jungfrau_utils as ju\n",
    "import numpy as np\n",
    "import json\n",
    "import os\n",
    "import time\n",
    "from matplotlib import pyplot as plt\n",
    "from scipy.optimize import curve_fit\n",
    "\n",
    "import h5py\n",
    "\n",
    "from alvra_tools.load_data import *\n",
    "from alvra_tools.channels import *"
   ]
  },
  {
   "cell_type": "code",
   "execution_count": 3,
   "metadata": {
    "collapsed": true
   },
   "outputs": [],
   "source": [
    "# scan_name = \"Ru_foil_monoscan_001\"\n",
    "# DIR = \"/das/work/p17/p17983/cropped_data/scan_data/\" + scan_name + \"/\"\n",
    "# DIRBS = \"/sf/alvra/data/p17983/raw/scan_data/Ru_foil_monoscan_001/\"scan_name = \"Ru_foil_monoscan_001\"\n",
    "scan_name = \"RuBpy3_monoscan_004\"\n",
    "DIR = \"/das/work/p17/p17983/cropped_data/scan_data/\" + scan_name + \"/\"\n",
    "DIRBS = \"/sf/alvra/data/p17983/raw/scan_data/\" + scan_name + \"/\""
   ]
  },
  {
   "cell_type": "code",
   "execution_count": 4,
   "metadata": {
    "scrolled": true
   },
   "outputs": [
    {
     "name": "stdout",
     "output_type": "stream",
     "text": [
      "/das/work/p17/p17983/cropped_data/scan_data/RuBpy3_monoscan_004/RuBpy3_monoscan_004_step0005.JF02T09V02crop.h5\n",
      "/sf/alvra/data/p17983/raw/scan_data/RuBpy3_monoscan_004/RuBpy3_monoscan_004_step0005.BSREAD.h5\n",
      "images_roi3\n",
      "<KeysViewHDF5 ['coords_roi1', 'coords_roi2', 'coords_roi3', 'coords_roi4', 'images_roi1', 'images_roi2', 'images_roi3', 'images_roi4', 'pulse_ids']>\n",
      "number of frames\n",
      "2000\n"
     ]
    },
    {
     "ename": "IndexError",
     "evalue": "boolean index did not match indexed array along dimension 0; dimension is 2000 but corresponding boolean dimension is 1000",
     "output_type": "error",
     "traceback": [
      "\u001b[0;31m---------------------------------------------------------------------------\u001b[0m",
      "\u001b[0;31mIndexError\u001b[0m                                Traceback (most recent call last)",
      "\u001b[0;32m<ipython-input-4-b76429425cc1>\u001b[0m in \u001b[0;36m<module>\u001b[0;34m\u001b[0m\n\u001b[1;32m     42\u001b[0m \u001b[0mcondition\u001b[0m \u001b[0;34m=\u001b[0m \u001b[0mnp\u001b[0m\u001b[0;34m.\u001b[0m\u001b[0mlogical_and\u001b[0m\u001b[0;34m.\u001b[0m\u001b[0mreduce\u001b[0m\u001b[0;34m(\u001b[0m\u001b[0;34m(\u001b[0m\u001b[0mconditionLow\u001b[0m\u001b[0;34m,\u001b[0m \u001b[0mconditionMin\u001b[0m\u001b[0;34m,\u001b[0m \u001b[0mconditionMax\u001b[0m\u001b[0;34m)\u001b[0m\u001b[0;34m)\u001b[0m\u001b[0;34m.\u001b[0m\u001b[0mT\u001b[0m\u001b[0;34m[\u001b[0m\u001b[0;36m0\u001b[0m\u001b[0;34m]\u001b[0m\u001b[0;34m\u001b[0m\u001b[0;34m\u001b[0m\u001b[0m\n\u001b[1;32m     43\u001b[0m \u001b[0;34m\u001b[0m\u001b[0m\n\u001b[0;32m---> 44\u001b[0;31m \u001b[0mimages_thr\u001b[0m \u001b[0;34m=\u001b[0m \u001b[0mimages_thr\u001b[0m\u001b[0;34m[\u001b[0m\u001b[0mcondition\u001b[0m\u001b[0;34m]\u001b[0m\u001b[0;34m\u001b[0m\u001b[0;34m\u001b[0m\u001b[0m\n\u001b[0m\u001b[1;32m     45\u001b[0m \u001b[0;34m\u001b[0m\u001b[0m\n\u001b[1;32m     46\u001b[0m \u001b[0mprint\u001b[0m\u001b[0;34m(\u001b[0m\u001b[0;34m'number of surviving frames'\u001b[0m\u001b[0;34m)\u001b[0m\u001b[0;34m\u001b[0m\u001b[0;34m\u001b[0m\u001b[0m\n",
      "\u001b[0;31mIndexError\u001b[0m: boolean index did not match indexed array along dimension 0; dimension is 2000 but corresponding boolean dimension is 1000"
     ]
    }
   ],
   "source": [
    "numstds = 2\n",
    "minIzero = 0.002\n",
    "image_threshold = 1.5\n",
    "hot_pixel = 7.5\n",
    "\n",
    "filename = \"RuBpy3_monoscan_004_step0005\"\n",
    "# filename = \"Ru_foil_XES_3keV_001\"\n",
    "\n",
    "\n",
    "print(DIR + filename + \".JF02T09V02crop.h5\")\n",
    "print(DIRBS + filename + \".BSREAD.h5\")\n",
    "\n",
    "images, _ = load_JF_cropped_data(DIR + filename + \".JF02T09V02crop.h5\" , 3, nshots=None)\n",
    "\n",
    "\n",
    "\n",
    "(_, _, IzeroFEL, _, _, _, Energy, _, _, _ )\\\n",
    "    = load_PumpProbe_events_withTwoVariables(DIRBS + filename + \".BSREAD.h5\", channel_BS_pulse_ids, channel_energy)\n",
    "\n",
    "total = 0\n",
    "\n",
    "IzeroMedian = np.median(IzeroFEL)\n",
    "IzeroSTD = np.std(IzeroFEL)\n",
    "\n",
    "nframes = images.shape[0]\n",
    "\n",
    "IzeroMedian = np.median(IzeroFEL)\n",
    "IzeroSTD = np.std(IzeroFEL)\n",
    "\n",
    "print('number of frames')\n",
    "print(nframes)\n",
    "\n",
    "images_good = images\n",
    "\n",
    "images_thr = images_good.copy()\n",
    "images_thr[images_good < image_threshold] = 0\n",
    "images_thr[images_good > hot_pixel] = 0\n",
    "\n",
    "conditionMax = IzeroFEL < IzeroMedian+numstds*IzeroSTD\n",
    "conditionMin = IzeroFEL > IzeroMedian-numstds*IzeroSTD\n",
    "conditionLow = IzeroFEL > minIzero\n",
    "condition = np.logical_and.reduce((conditionLow, conditionMin, conditionMax)).T[0]\n",
    "\n",
    "images_thr = images_thr[condition]\n",
    "\n",
    "print('number of surviving frames')\n",
    "print(images_thr.shape[0])\n",
    "\n",
    "XES = images_thr.sum(axis=0)/images_thr.shape[0]\n",
    "\n",
    "print(\"XES size\")\n",
    "print(XES.shape)\n"
   ]
  },
  {
   "cell_type": "code",
   "execution_count": null,
   "metadata": {
    "collapsed": true
   },
   "outputs": [],
   "source": [
    "plt.figure()\n",
    "plt.imshow(XES, vmax = 0.1, vmin = 0)\n",
    "plt.xlabel('JF pixel')\n",
    "plt.ylabel('JF pixel')\n",
    "plt.title('XES')"
   ]
  },
  {
   "cell_type": "code",
   "execution_count": null,
   "metadata": {
    "collapsed": true
   },
   "outputs": [],
   "source": [
    "plt.figure()\n",
    "plt.plot(XES.sum(axis=0))\n",
    "plt.xlabel('JF pixel')\n",
    "plt.title('XES')"
   ]
  },
  {
   "cell_type": "code",
   "execution_count": null,
   "metadata": {
    "collapsed": true
   },
   "outputs": [],
   "source": []
  }
 ],
 "metadata": {
  "kernelspec": {
   "display_name": "Python [conda env:dev]",
   "language": "python",
   "name": "conda-env-dev-py"
  },
  "language_info": {
   "codemirror_mode": {
    "name": "ipython",
    "version": 3
   },
   "file_extension": ".py",
   "mimetype": "text/x-python",
   "name": "python",
   "nbconvert_exporter": "python",
   "pygments_lexer": "ipython3",
   "version": "3.6.7"
  }
 },
 "nbformat": 4,
 "nbformat_minor": 2
}
