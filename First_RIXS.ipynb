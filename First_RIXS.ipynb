{
 "cells": [
  {
   "cell_type": "code",
   "execution_count": 1,
   "metadata": {
    "collapsed": true
   },
   "outputs": [],
   "source": [
    "import sys\n",
    "sys.path.insert(0, '/das/work/p17/p17983/alvra_tools/')"
   ]
  },
  {
   "cell_type": "code",
   "execution_count": 2,
   "metadata": {},
   "outputs": [
    {
     "name": "stdout",
     "output_type": "stream",
     "text": [
      "[INFO][corrections] Numba not available, reverting to Numpy\n"
     ]
    }
   ],
   "source": [
    "%matplotlib nbagg\n",
    "import jungfrau_utils as ju\n",
    "import numpy as np\n",
    "import json\n",
    "import os\n",
    "import time\n",
    "from matplotlib import pyplot as plt\n",
    "from scipy.optimize import curve_fit\n",
    "\n",
    "import h5py\n",
    "\n",
    "from alvra_tools.load_data import *\n",
    "from alvra_tools.channels import *"
   ]
  },
  {
   "cell_type": "code",
   "execution_count": 3,
   "metadata": {},
   "outputs": [
    {
     "name": "stdout",
     "output_type": "stream",
     "text": [
      "Dimensions of G:  (4, 4608, 1024)\n",
      "Dimensions of P:  (4, 4608, 1024)\n",
      "Dimensions of mask:  (4608, 1024)\n"
     ]
    }
   ],
   "source": [
    "# Take the correct pedestal file (usually located in /sf/alvra/data/*pgroup*/res/JF_pedestals)\n",
    "# Take the correct gains.h5 file (usually located in /sf/alvra/config/jungfrau/gainMaps/JF02T09V01/)\n",
    "\n",
    "pede_file = \"/das/work/p17/p17983/Example_data/res/JF_pedestals/pedestal_20190706_1050.JF02T09V02.res.h5\"\n",
    "\n",
    "gain_file = \"/sf/alvra/config/jungfrau/gainMaps/JF02T09V02/gains.h5\"\n",
    "\n",
    "with h5py.File(gain_file, \"r\") as file: \n",
    "    G = file[\"gains\"][:]\n",
    "    \n",
    "with h5py.File(pede_file, \"r\") as file: \n",
    "    P = file[\"gains\"][:]\n",
    "    mask = file[\"pixel_mask\"][:]\n",
    "\n",
    "print(\"Dimensions of G: \", G.shape)\n",
    "print(\"Dimensions of P: \", P.shape)\n",
    "print(\"Dimensions of mask: \", mask.shape)\n",
    "\n",
    "# Detector name for loading module map and applying geometry\n",
    "detector_name = \"JF02T09V02\""
   ]
  },
  {
   "cell_type": "code",
   "execution_count": 4,
   "metadata": {},
   "outputs": [
    {
     "name": "stdout",
     "output_type": "stream",
     "text": [
      "There are 244 files in the folder /das/work/p17/p17983/Example_data/raw/scan_data/Febpy_monoscan_200mJ_5ps_001/\n"
     ]
    }
   ],
   "source": [
    "DIR = \"/das/work/p17/p17983/Example_data/raw/scan_data/Febpy_monoscan_200mJ_5ps_001/\"\n",
    "DIR_json = \"/das/work/p17/p17983/Example_data/res/scan_info/\"\n",
    "\n",
    "listfile = os.listdir(DIR)\n",
    "number_files = len(listfile)\n",
    "print (\"There are\",number_files,\"files in the folder\", DIR)"
   ]
  },
  {
   "cell_type": "code",
   "execution_count": null,
   "metadata": {
    "collapsed": true
   },
   "outputs": [],
   "source": [
    "filename = \"Febpy_monoscan_200mJ_5ps_001_step0060.JF02T09V02.h5\"\n",
    "bsreadfile = \"Febpy_monoscan_200mJ_5ps_001_step0060.BSREAD.h5\"\n",
    "\n",
    "images_off, images_on, pulse_ids_off, pulse_ids_on = load_JF_data_on_off(DIR + filename, 50, 25, nshots=None)\n",
    "(DataFluo_pump, DataFluo_unpump, IzeroFEL_pump, IzeroFEL_unpump, BS_pulse_ids_pump, BS_pulse_ids_unpump, _, _) = \\\n",
    "         load_PumpProbe_events(DIR+bsreadfile, channel_BS_pulse_ids)"
   ]
  },
  {
   "cell_type": "markdown",
   "metadata": {},
   "source": [
    "Right now it seems like the on and off data is flipped coming from the load_JF_data_on_off function.  Will need to fix this.  For now I am just coding is backwards."
   ]
  },
  {
   "cell_type": "code",
   "execution_count": null,
   "metadata": {},
   "outputs": [],
   "source": [
    "nframes = images_on.shape[0]\n",
    "print('number of frames')\n",
    "print(nframes)\n",
    "nframes = 20\n",
    "\n",
    "X = [a==b and c==d for a,b,c,d in zip(pulse_ids_on, BS_pulse_ids_pump, pulse_ids_off, BS_pulse_ids_unpump)]\n",
    "if sum([int(x) for x in X]) == images_on.shape[0]:\n",
    "    print('passed pulse id check')\n",
    "else:\n",
    "    print('failed pulse id check')\n"
   ]
  },
  {
   "cell_type": "code",
   "execution_count": null,
   "metadata": {
    "scrolled": false
   },
   "outputs": [],
   "source": [
    "plt.figure()\n",
    "_ = plt.hist(np.ndarray.flatten(images_off),1000)"
   ]
  },
  {
   "cell_type": "code",
   "execution_count": null,
   "metadata": {},
   "outputs": [],
   "source": [
    "numstds = 2\n",
    "minIzero = 0.002\n",
    "image_threshold = 4\n",
    "hot_pixel = 10\n",
    "\n",
    "json_file = DIR_json + scan_name + \"_scan_info.json\"\n",
    "print (json_file)\n",
    "\n",
    "with open(json_file) as file:\n",
    "    data = json.load(file)\n",
    "numFiles = len(data['scan_files'])\n",
    "\n",
    "print (\"Processing\",numFiles,\"files\")\n",
    "\n",
    "for i in range(0,numFiles):\n",
    "#for i in range(0,3):\n",
    "    filename = str(data['scan_files'][i][0])\n",
    "    filename = DIR + os.path.basename(filename)\n",
    "    exists = os.path.isfile(filename)\n",
    "    if not exists:\n",
    "        print(\"No such file\")\n",
    "    elif exists and i!=39:\n",
    "        print(\"step\",i+1,\"of\",numFiles,\": Processing %s\" %(str(data['scan_files'][i][0])))\n",
    "\n",
    "    total_on = 0\n",
    "    total_off = 0\n",
    "\n",
    "    IzeroMedian = np.median(np.concatenate([IzeroFEL_pump, IzeroFEL_unpump]))\n",
    "    IzeroSTD = np.std(np.concatenate([IzeroFEL_pump, IzeroFEL_unpump]))\n",
    "\n",
    "    for i in range(nframes):\n",
    "\n",
    "        conditionPumpMax = IzeroFEL_pump[i] < IzeroMedian+numstds*IzeroSTD\n",
    "        conditionPumpMin = IzeroFEL_pump[i] > IzeroMedian-numstds*IzeroSTD\n",
    "        conditionPumpLow = IzeroFEL_pump[i] > minIzero\n",
    "\n",
    "        if conditionPumpMax and conditionPumpMin and conditionPumpLow:\n",
    "\n",
    "            image_on = images_on[i, :]\n",
    "            image_on = ju.apply_gain_pede(image_on, G=G, P=P, pixel_mask=mask, highgain=False)\n",
    "            image_on_thr = image_on.copy()\n",
    "            image_on_thr[image_on < image_threshold] = 0\n",
    "            image_on_thr[image_on > hot_pixel] = 0\n",
    "            total_on += image_on_thr/IzeroFEL_pump[i]\n",
    "\n",
    "        conditionUnPumpMax = IzeroFEL_unpump[i] < IzeroMedian+numstds*IzeroSTD\n",
    "        conditionUnPumpMin = IzeroFEL_unpump[i] > IzeroMedian-numstds*IzeroSTD\n",
    "        conditionUnPumpLow = IzeroFEL_unpump[i] > minIzero\n",
    "\n",
    "        if conditionUnPumpMax and conditionUnPumpMin and conditionUnPumpLow:\n",
    "\n",
    "            image_off = images_off[i, :]\n",
    "            image_off = ju.apply_gain_pede(image_off, G=G, P=P, pixel_mask=mask, highgain=False)\n",
    "            image_off_thr = image_off.copy()\n",
    "            image_off_thr[image_off < image_threshold] = 0\n",
    "            image_off_thr[image_off > hot_pixel] = 0\n",
    "            total_off += image_off_thr/IzeroFEL_unpump[i]\n",
    "\n",
    "    total_on_corr = ju.apply_geometry(total_on, detector_name)\n",
    "    total_off_corr = ju.apply_geometry(total_off, detector_name)\n",
    "    \n",
    "    XES_off = np.sum(total_off_corr,axis=0)\n",
    "    XES_on = np.sum(total_on_corr,axis=0)\n",
    "    \n",
    "    if i == 0:\n",
    "        RIXS_off = XES_off\n",
    "        RIXS_on = XES_on\n",
    "    else:\n",
    "        RIXS_off = np.vstack((RIXS_off,XES_off))\n",
    "        RIXS_on = np.vstack((RIXS_on,XES_on))\n",
    "\n",
    "print(RIXS_off.shape)\n",
    "print(RIXS_on.shape)\n"
   ]
  },
  {
   "cell_type": "code",
   "execution_count": null,
   "metadata": {
    "collapsed": true
   },
   "outputs": [],
   "source": [
    "print(np.mean(np.ndarray.flatten(RIXS_off)))\n",
    "print(max(np.ndarray.flatten(RIXS_off)))\n",
    "\n",
    "plt.figure()\n",
    "plt.subplots_adjust(wspace=100)\n",
    "plt.subplot(211)\n",
    "plt.imshow(RIXS_on, origin=\"lower\", aspect='auto', vmin=0, vmax=1000)\n",
    "plt.colorbar()\n",
    "plt.title('RIXS_on')\n",
    "plt.subplot(212)\n",
    "plt.imshow(RIXS_off, origin=\"lower\", aspect='auto', vmin=0, vmax=1000)\n",
    "plt.colorbar()\n",
    "plt.title('RIXS_off')\n",
    "plt.tight_layout()\n",
    "plt.show()\n"
   ]
  },
  {
   "cell_type": "code",
   "execution_count": null,
   "metadata": {
    "collapsed": true,
    "scrolled": false
   },
   "outputs": [],
   "source": [
    "XES_off = np.sum(total_off_corr,axis=0)\n",
    "print(XES_off.size)\n",
    "print(total_off_corr.shape)\n",
    "\n",
    "plt.figure()\n",
    "plt.plot(XES_off)\n",
    "plt.xlabel('pixel')\n",
    "plt.title('XES')\n",
    "\n",
    "XES_on = np.sum(total_on_corr,axis=0)\n",
    "print(XES_on.size)\n",
    "print(total_on_corr.shape)\n",
    "\n",
    "plt.figure()\n",
    "plt.plot(XES_on)\n",
    "plt.xlabel('pixel')\n",
    "plt.title('XES')\n",
    "\n",
    "plt.figure()\n",
    "plt.plot(XES_off-XES_on)\n",
    "plt.xlabel('pixel')\n",
    "plt.title('off - on')\n",
    "\n"
   ]
  },
  {
   "cell_type": "code",
   "execution_count": null,
   "metadata": {
    "collapsed": true
   },
   "outputs": [],
   "source": []
  }
 ],
 "metadata": {
  "kernelspec": {
   "display_name": "Python [conda env:dev]",
   "language": "python",
   "name": "conda-env-dev-py"
  },
  "language_info": {
   "codemirror_mode": {
    "name": "ipython",
    "version": 3
   },
   "file_extension": ".py",
   "mimetype": "text/x-python",
   "name": "python",
   "nbconvert_exporter": "python",
   "pygments_lexer": "ipython3",
   "version": "3.6.7"
  }
 },
 "nbformat": 4,
 "nbformat_minor": 2
}
