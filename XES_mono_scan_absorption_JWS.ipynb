{
 "cells": [
  {
   "cell_type": "code",
   "execution_count": 1,
   "metadata": {
    "collapsed": true
   },
   "outputs": [],
   "source": [
    "import sys\n",
    "sys.path.insert(0, '/das/work/p17/p17983/')\n",
    "        "
   ]
  },
  {
   "cell_type": "code",
   "execution_count": 2,
   "metadata": {},
   "outputs": [
    {
     "name": "stdout",
     "output_type": "stream",
     "text": [
      "[INFO][corrections] Numba not available, reverting to Numpy\n"
     ]
    }
   ],
   "source": [
    "%matplotlib nbagg\n",
    "import jungfrau_utils as ju\n",
    "import numpy as np\n",
    "import json\n",
    "import os\n",
    "import time\n",
    "from matplotlib import pyplot as plt\n",
    "from scipy.optimize import curve_fit\n",
    "\n",
    "import h5py\n",
    "\n",
    "from alvra_tools.load_data import *\n",
    "from alvra_tools.channels import *"
   ]
  },
  {
   "cell_type": "code",
   "execution_count": 3,
   "metadata": {},
   "outputs": [
    {
     "name": "stdout",
     "output_type": "stream",
     "text": [
      "Dimensions of G:  (4, 4608, 1024)\n",
      "Dimensions of P:  (4, 4608, 1024)\n",
      "Dimensions of mask:  (4608, 1024)\n"
     ]
    }
   ],
   "source": [
    "# Take the correct pedestal file (usually located in /sf/alvra/data/*pgroup*/res/JF_pedestals)\n",
    "# Take the correct gains.h5 file (usually located in /sf/alvra/config/jungfrau/gainMaps/JF02T09V01/)\n",
    "\n",
    "pede_file = \"/sf/alvra/data/p17983/res/JF_pedestals/pedestal_20190723_1255.JF02T09V02.res.h5\"\n",
    "\n",
    "gain_file = \"/sf/alvra/config/jungfrau/gainMaps/JF02T09V02/gains.h5\"\n",
    "\n",
    "with h5py.File(gain_file, \"r\") as file: \n",
    "    G = file[\"gains\"][:]\n",
    "    \n",
    "with h5py.File(pede_file, \"r\") as file: \n",
    "    P = file[\"gains\"][:]\n",
    "    mask = file[\"pixel_mask\"][:]\n",
    "\n",
    "print(\"Dimensions of G: \", G.shape)\n",
    "print(\"Dimensions of P: \", P.shape)\n",
    "print(\"Dimensions of mask: \", mask.shape)\n",
    "\n",
    "# Detector name for loading module map and applying geometry\n",
    "detector_name = \"JF02T09V02\""
   ]
  },
  {
   "cell_type": "code",
   "execution_count": 4,
   "metadata": {},
   "outputs": [
    {
     "name": "stdout",
     "output_type": "stream",
     "text": [
      "There are 84 files in the folder /sf/alvra/data/p17983/raw/scan_data/Ru_foil_monoscan_001/\n"
     ]
    }
   ],
   "source": [
    "DIR = \"/sf/alvra/data/p17983/raw/scan_data/Ru_foil_monoscan_001/\"\n",
    "# DIR = \"/sf/alvra/data/p17983/raw/\"\n",
    "\n",
    "listfile = os.listdir(DIR)\n",
    "number_files = len(listfile)\n",
    "print (\"There are\",number_files,\"files in the folder\", DIR)"
   ]
  },
  {
   "cell_type": "code",
   "execution_count": 5,
   "metadata": {
    "collapsed": true
   },
   "outputs": [],
   "source": [
    "numberSteps = 20\n",
    "roi=[200,320,4850,5250]"
   ]
  },
  {
   "cell_type": "code",
   "execution_count": 6,
   "metadata": {},
   "outputs": [
    {
     "name": "stdout",
     "output_type": "stream",
     "text": [
      "Ru_foil_monoscan_001_step0007.JF02T09V02.h5\n",
      "Ru_foil_monoscan_001_step0007.BSREAD.h5\n",
      "All modules are active\n"
     ]
    },
    {
     "name": "stderr",
     "output_type": "stream",
     "text": [
      "/sf/alvra/anaconda/dev/lib/python3.6/site-packages/jungfrau_utils/corrections.py:202: FutureWarning: arrays to stack must be passed as a \"sequence\" type such as list or tuple. Support for non-sequence iterables such as generators is deprecated as of NumPy 1.16 and will raise an error in the future.\n",
      "  res = np.stack(partial_func_to_use(i) for i in image)\n"
     ]
    },
    {
     "name": "stdout",
     "output_type": "stream",
     "text": [
      "number of frames\n",
      "10\n",
      "passed pulse id check\n",
      "number of frames\n",
      "10\n",
      "number of surviving frames\n",
      "7\n",
      "(4718592,)\n"
     ]
    }
   ],
   "source": [
    "# filename = \"Ru_foil_monoscan_001_step0020.JF02T09V02.h5\"\n",
    "# bsreadfile = \"Ru_foil_monoscan_001_step0020.BSREAD.h5\"\n",
    "\n",
    "# for n=1, NumberSteps:\n",
    "filename_root = \"Ru_foil_monoscan_001_step0007\"\n",
    "# filename_root = \"Ru_foil_XES_3keV_002\"\n",
    "\n",
    "\n",
    "filename = filename_root+\".JF02T09V02.h5\"\n",
    "bsreadfile = filename_root+\".BSREAD.h5\"\n",
    "\n",
    "print(filename)\n",
    "print(bsreadfile)\n",
    "#user sets number of frames to combine\n",
    "N_shots_to_use = 10\n",
    "\n",
    "images, pulse_ids = load_JF_data_corrected(DIR + filename, G, P, mask, nshots=N_shots_to_use)\n",
    "\n",
    "#this function assumes pump on/off handeling and we just forced everything into one of them and read it out\n",
    "(DataFluo, _, IzeroFEL, _, BS_pulse_ids, _, _, _) = load_PumpProbe_events(DIR+bsreadfile, channel_BS_pulse_ids,nshots=N_shots_to_use*2)    \n",
    "        \n",
    "nframes = images.shape[0]\n",
    "print('number of frames')\n",
    "print(nframes)\n",
    "# nframes = 1\n",
    "\n",
    "X = [a==b for a,b in zip(pulse_ids, BS_pulse_ids)]\n",
    "if sum([int(x) for x in X]) == images.shape[0]:\n",
    "    print('passed pulse id check')\n",
    "else:\n",
    "    print('failed pulse id check')\n",
    "# print(images.shape)\n",
    "\n",
    "numstds = 2 #2\n",
    "minIzero = 0.002 #0.002\n",
    "image_threshold = 1\n",
    "hot_pixel = 15\n",
    "\n",
    "total = 0\n",
    "# total_off = 0\n",
    "\n",
    "IzeroMedian = np.median(IzeroFEL)\n",
    "IzeroSTD = np.std(IzeroFEL)\n",
    "\n",
    "# print(images_off.shape)\n",
    "print('number of frames')\n",
    "print(nframes)\n",
    "    \n",
    "conditionMax = IzeroFEL < IzeroMedian+numstds*IzeroSTD\n",
    "conditionMin = IzeroFEL > IzeroMedian-numstds*IzeroSTD\n",
    "conditionLow = IzeroFEL > minIzero\n",
    "condition = np.logical_and.reduce((conditionLow, conditionMin, conditionMax)).T[0]\n",
    "# if conditionMax and conditionMin and conditionLow:\n",
    "\n",
    "# print(condition)\n",
    "\n",
    "images_good = images[condition,...]\n",
    "#         image_off = ju.apply_gain_pede(image_off, G=G, P=P, pixel_mask=mask, highgain=False)\n",
    "images_thr = images_good.copy()\n",
    "images_thr[images_good < image_threshold] = 0\n",
    "images_thr[images_good > hot_pixel] = 0\n",
    "\n",
    "print('number of surviving frames')\n",
    "print(images_thr.shape[0])\n",
    "\n",
    "total = images_thr.sum(axis=0)\n",
    "total = total.ravel()\n",
    "\n",
    "print(total.shape)\n",
    "    "
   ]
  },
  {
   "cell_type": "code",
   "execution_count": 16,
   "metadata": {},
   "outputs": [
    {
     "name": "stdout",
     "output_type": "stream",
     "text": [
      "1\n",
      "Ru_foil_monoscan_001_step0001.JF02T09V02.h5\n",
      "2\n",
      "Ru_foil_monoscan_001_step0002.JF02T09V02.h5\n",
      "3\n",
      "Ru_foil_monoscan_001_step0003.JF02T09V02.h5\n",
      "4\n",
      "Ru_foil_monoscan_001_step0004.JF02T09V02.h5\n",
      "5\n",
      "Ru_foil_monoscan_001_step0005.JF02T09V02.h5\n",
      "6\n",
      "Ru_foil_monoscan_001_step0006.JF02T09V02.h5\n",
      "7\n",
      "Ru_foil_monoscan_001_step0007.JF02T09V02.h5\n",
      "8\n",
      "Ru_foil_monoscan_001_step0008.JF02T09V02.h5\n",
      "9\n",
      "Ru_foil_monoscan_001_step0009.JF02T09V02.h5\n",
      "10\n",
      "Ru_foil_monoscan_001_step00010.JF02T09V02.h5\n",
      "11\n",
      "Ru_foil_monoscan_001_step0011.JF02T09V02.h5\n",
      "12\n",
      "Ru_foil_monoscan_001_step0012.JF02T09V02.h5\n",
      "13\n",
      "Ru_foil_monoscan_001_step0013.JF02T09V02.h5\n",
      "14\n",
      "Ru_foil_monoscan_001_step0014.JF02T09V02.h5\n",
      "15\n",
      "Ru_foil_monoscan_001_step0015.JF02T09V02.h5\n",
      "16\n",
      "Ru_foil_monoscan_001_step0016.JF02T09V02.h5\n",
      "17\n",
      "Ru_foil_monoscan_001_step0017.JF02T09V02.h5\n",
      "18\n",
      "Ru_foil_monoscan_001_step0018.JF02T09V02.h5\n",
      "19\n",
      "Ru_foil_monoscan_001_step0019.JF02T09V02.h5\n",
      "20\n",
      "Ru_foil_monoscan_001_step0020.JF02T09V02.h5\n"
     ]
    }
   ],
   "source": [
    "for n in range(1, numberSteps+1):\n",
    "    if n < 10:\n",
    "        filename_root1 = \"Ru_foil_monoscan_001_step000\"\n",
    "    if n > 10:\n",
    "        filename_root1 = \"Ru_foil_monoscan_001_step00\"\n",
    "# filename_root = \"Ru_foil_XES_3keV_002\"\n",
    "    print(n)\n",
    "    \n",
    "    \n",
    "    filename = filename_root1+str(n)+\".JF02T09V02.h5\"\n",
    "    bsreadfile = filename_root1+str(n)+\".BSREAD.h5\"\n",
    "    \n",
    "    print(filename)"
   ]
  },
  {
   "cell_type": "code",
   "execution_count": null,
   "metadata": {},
   "outputs": [],
   "source": [
    "for 1 to numberSteps"
   ]
  },
  {
   "cell_type": "code",
   "execution_count": null,
   "metadata": {
    "collapsed": true
   },
   "outputs": [],
   "source": []
  },
  {
   "cell_type": "code",
   "execution_count": null,
   "metadata": {
    "collapsed": true
   },
   "outputs": [],
   "source": []
  },
  {
   "cell_type": "code",
   "execution_count": null,
   "metadata": {
    "collapsed": true
   },
   "outputs": [],
   "source": []
  }
 ],
 "metadata": {
  "kernelspec": {
   "display_name": "Python 3",
   "language": "python",
   "name": "python3"
  },
  "language_info": {
   "codemirror_mode": {
    "name": "ipython",
    "version": 3
   },
   "file_extension": ".py",
   "mimetype": "text/x-python",
   "name": "python",
   "nbconvert_exporter": "python",
   "pygments_lexer": "ipython3",
   "version": "3.6.7"
  }
 },
 "nbformat": 4,
 "nbformat_minor": 2
}
