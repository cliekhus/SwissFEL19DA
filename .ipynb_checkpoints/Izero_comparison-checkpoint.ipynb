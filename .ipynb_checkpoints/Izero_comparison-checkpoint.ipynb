{
 "cells": [
  {
   "cell_type": "code",
   "execution_count": 1,
   "metadata": {
    "collapsed": true
   },
   "outputs": [],
   "source": [
    "import sys\n",
    "sys.path.insert(0, '/das/work/p17/p17983/')"
   ]
  },
  {
   "cell_type": "code",
   "execution_count": null,
   "metadata": {},
   "outputs": [],
   "source": [
    "%matplotlib nbagg\n",
    "import numpy as np\n",
    "import json\n",
    "import os\n",
    "from matplotlib import pyplot as plt\n",
    "from scipy.optimize import curve_fit\n",
    "\n",
    "from alvra_tools.load_data import *\n",
    "from alvra_tools.channels import *\n",
    "from alvra_tools.utils import errfunc_sigma, errfunc_fwhm"
   ]
  },
  {
   "cell_type": "markdown",
   "metadata": {},
   "source": [
    "Set up the filters.  \"numstds\" is the number of standard deviations to take from the median."
   ]
  },
  {
   "cell_type": "code",
   "execution_count": null,
   "metadata": {},
   "outputs": [],
   "source": [
    "def get_Izero(filename, DIRBS):\n",
    "\n",
    "    print(DIRBS + filename + \".BSREAD.h5\")\n",
    "\n",
    "    (_, _, IzeroFEL, _, _, _, pulse_ids, _, _, _ )\\\n",
    "        = load_PumpProbe_events_withTwoVariables(DIRBS + filename + \".BSREAD.h5\", channel_energy, channel_BS_pulse_ids)\n",
    "    return pulse_ids, IzeroFEL"
   ]
  },
  {
   "cell_type": "code",
   "execution_count": null,
   "metadata": {},
   "outputs": [],
   "source": [
    "filename_01 = \"Ru_foil_monoscan_003_step0013\"\n",
    "DIRBS = \"/sf/alvra/data/p17983/raw/scan_data/Ru_foil_monoscan_003/\"\n",
    "(Pulse_ids_01, IzeroFEL_01) = get_Izero(filename_01, DIRBS)\n",
    "\n",
    "\n",
    "filename_02 = \"jet_timing_005_step0013\"\n",
    "DIRBS = \"/sf/alvra/data/p17983/raw/scan_data/jet_timing_005/\"\n",
    "(Pulse_ids_02, IzeroFEL_02) = get_Izero(filename_02, DIRBS)"
   ]
  },
  {
   "cell_type": "code",
   "execution_count": null,
   "metadata": {
    "collapsed": true
   },
   "outputs": [],
   "source": [
    "Pulse_ids_01 = Pulse_ids_01-Pulse_ids_01[0]\n",
    "Pulse_ids_02 = Pulse_ids_02-Pulse_ids_02[0]"
   ]
  },
  {
   "cell_type": "code",
   "execution_count": null,
   "metadata": {},
   "outputs": [],
   "source": [
    "dec_mean = 3\n",
    "dec_std = 2\n",
    "\n",
    "IzeroFEL_01_mean = np.round(np.mean(IzeroFEL_01),dec_mean)\n",
    "IzeroFEL_01_std = np.round(np.std(IzeroFEL_01),dec_std)\n",
    "IzeroFEL_02_mean = np.round(np.mean(IzeroFEL_02),dec_mean)\n",
    "IzeroFEL_02_std = np.round(np.std(IzeroFEL_02),dec_std)"
   ]
  },
  {
   "cell_type": "code",
   "execution_count": null,
   "metadata": {},
   "outputs": [],
   "source": [
    "plt.figure()\n",
    "plt.plot(Pulse_ids_01,IzeroFEL_01, label = filename_01+\"\\n\"+str(IzeroFEL_01_mean)+\"+/-\"+str(IzeroFEL_01_std))\n",
    "plt.plot(Pulse_ids_02,IzeroFEL_02, label = filename_02+\"\\n\"+str(IzeroFEL_02_mean)+\"+/-\"+str(IzeroFEL_02_std))\n",
    "plt.legend()\n",
    "plt.xlabel('pulse number')\n",
    "plt.ylabel('Izero Intensity')\n",
    "plt.title('Izero Comparison')"
   ]
  },
  {
   "cell_type": "code",
   "execution_count": null,
   "metadata": {
    "collapsed": true
   },
   "outputs": [],
   "source": []
  }
 ],
 "metadata": {
  "kernelspec": {
   "display_name": "Python [conda env:dev]",
   "language": "python",
   "name": "conda-env-dev-py"
  },
  "language_info": {
   "codemirror_mode": {
    "name": "ipython",
    "version": 3
   },
   "file_extension": ".py",
   "mimetype": "text/x-python",
   "name": "python",
   "nbconvert_exporter": "python",
   "pygments_lexer": "ipython3",
   "version": "3.6.7"
  }
 },
 "nbformat": 4,
 "nbformat_minor": 2
}
