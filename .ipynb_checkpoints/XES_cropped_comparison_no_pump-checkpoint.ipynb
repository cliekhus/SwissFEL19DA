{
 "cells": [
  {
   "cell_type": "code",
   "execution_count": 1,
   "metadata": {
    "collapsed": true
   },
   "outputs": [],
   "source": [
    "import sys\n",
    "sys.path.insert(0, '/das/work/p17/p17983/')"
   ]
  },
  {
   "cell_type": "code",
   "execution_count": 2,
   "metadata": {},
   "outputs": [
    {
     "name": "stdout",
     "output_type": "stream",
     "text": [
      "[INFO][corrections] Numba not available, reverting to Numpy\n"
     ]
    }
   ],
   "source": [
    "%matplotlib nbagg\n",
    "import jungfrau_utils as ju\n",
    "import numpy as np\n",
    "import json\n",
    "import os\n",
    "import time\n",
    "from matplotlib import pyplot as plt\n",
    "from scipy.optimize import curve_fit\n",
    "\n",
    "import h5py\n",
    "\n",
    "from alvra_tools.load_data import *\n",
    "from alvra_tools.channels import *"
   ]
  },
  {
   "cell_type": "code",
   "execution_count": 3,
   "metadata": {
    "collapsed": true,
    "scrolled": true
   },
   "outputs": [],
   "source": [
    "def get_xes(filename, DIR, DIRBS,roi):\n",
    "    numstds = 2\n",
    "    minIzero = 0.002\n",
    "    image_threshold = .05\n",
    "    hot_pixel = 7.5\n",
    "\n",
    "#     filename = \"Ru_foil_monoscan_001_step0010\"\n",
    "\n",
    "    print(DIR + filename + \".JF02T09V02crop.h5\")\n",
    "    print()\n",
    "    print(DIRBS + filename + \".BSREAD.h5\")\n",
    "    \n",
    "    images, _ = load_JF_cropped_data(DIR + filename + \".JF02T09V02crop.h5\" , roi, nshots=None)\n",
    "\n",
    "\n",
    "\n",
    "    (_, _, IzeroFEL, _, _, _, Energy, _, _, _ )\\\n",
    "        = load_PumpProbe_events_withTwoVariables(DIRBS + filename + \".BSREAD.h5\", channel_BS_pulse_ids, channel_energy)\n",
    "\n",
    "    total = 0\n",
    "\n",
    "\n",
    "    IzeroMedian = np.median(IzeroFEL)\n",
    "    IzeroSTD = np.std(IzeroFEL)\n",
    "\n",
    "    nframes = images.shape\n",
    "\n",
    "#     IzeroMedian = np.median(IzeroFEL)\n",
    "#     IzeroSTD = np.std(IzeroFEL)\n",
    "\n",
    "    print('number of frames')\n",
    "    print(nframes)\n",
    "\n",
    "    images_good = images\n",
    "\n",
    "    images_thr = images_good.copy()\n",
    "    images_thr[images_good < image_threshold] = 0\n",
    "    images_thr[images_good > hot_pixel] = 0\n",
    "\n",
    "    conditionMax = IzeroFEL < IzeroMedian+numstds*IzeroSTD\n",
    "    conditionMin = IzeroFEL > IzeroMedian-numstds*IzeroSTD\n",
    "    conditionLow = IzeroFEL > minIzero\n",
    "    condition = np.logical_and.reduce((conditionLow, conditionMin, conditionMax)).T[0]\n",
    "\n",
    "    images_thr = images_thr[condition]\n",
    "\n",
    "    print('number of surviving frames')\n",
    "    print(images_thr.shape[0])\n",
    "\n",
    "    XES = images_thr.sum(axis=0)/images_thr.shape[0]\n",
    "\n",
    "    print(\"XES size\")\n",
    "    print(XES.shape)\n",
    "\n",
    "    return XES\n"
   ]
  },
  {
   "cell_type": "code",
   "execution_count": 4,
   "metadata": {},
   "outputs": [
    {
     "name": "stdout",
     "output_type": "stream",
     "text": [
      "/das/work/p17/p17983/cropped_data/RuBpy3_monoscan_015/RuBpy3_monoscan_015_step0010.JF02T09V02crop.h5\n",
      "\n",
      "/sf/alvra/data/p17983/raw/RuBpy3_monoscan_015/RuBpy3_monoscan_015_step0010.BSREAD.h5\n"
     ]
    },
    {
     "ename": "OSError",
     "evalue": "Unable to open file (unable to open file: name = '/das/work/p17/p17983/cropped_data/RuBpy3_monoscan_015/RuBpy3_monoscan_015_step0010.JF02T09V02crop.h5', errno = 2, error message = 'No such file or directory', flags = 0, o_flags = 0)",
     "output_type": "error",
     "traceback": [
      "\u001b[0;31m---------------------------------------------------------------------------\u001b[0m",
      "\u001b[0;31mOSError\u001b[0m                                   Traceback (most recent call last)",
      "\u001b[0;32m<ipython-input-4-65e7dd3d680a>\u001b[0m in \u001b[0;36m<module>\u001b[0;34m\u001b[0m\n\u001b[1;32m     12\u001b[0m \u001b[0mDIRBS\u001b[0m \u001b[0;34m=\u001b[0m \u001b[0;34m\"/sf/alvra/data/p17983/raw/\"\u001b[0m \u001b[0;34m+\u001b[0m \u001b[0mscan_name\u001b[0m \u001b[0;34m+\u001b[0m \u001b[0;34m\"/\"\u001b[0m\u001b[0;34m\u001b[0m\u001b[0;34m\u001b[0m\u001b[0m\n\u001b[1;32m     13\u001b[0m \u001b[0;34m\u001b[0m\u001b[0m\n\u001b[0;32m---> 14\u001b[0;31m \u001b[0mXES_01\u001b[0m \u001b[0;34m=\u001b[0m \u001b[0mget_xes\u001b[0m\u001b[0;34m(\u001b[0m\u001b[0mfilename\u001b[0m\u001b[0;34m,\u001b[0m \u001b[0mDIR\u001b[0m\u001b[0;34m,\u001b[0m \u001b[0mDIRBS\u001b[0m\u001b[0;34m,\u001b[0m \u001b[0;36m3\u001b[0m\u001b[0;34m)\u001b[0m\u001b[0;34m\u001b[0m\u001b[0;34m\u001b[0m\u001b[0m\n\u001b[0m\u001b[1;32m     15\u001b[0m \u001b[0mXES_sum_01\u001b[0m \u001b[0;34m=\u001b[0m \u001b[0mXES_01\u001b[0m\u001b[0;34m.\u001b[0m\u001b[0msum\u001b[0m\u001b[0;34m(\u001b[0m\u001b[0maxis\u001b[0m\u001b[0;34m=\u001b[0m\u001b[0;36m0\u001b[0m\u001b[0;34m)\u001b[0m\u001b[0;34m\u001b[0m\u001b[0;34m\u001b[0m\u001b[0m\n",
      "\u001b[0;32m<ipython-input-3-7e4b38068fa5>\u001b[0m in \u001b[0;36mget_xes\u001b[0;34m(filename, DIR, DIRBS, roi)\u001b[0m\n\u001b[1;32m     11\u001b[0m     \u001b[0mprint\u001b[0m\u001b[0;34m(\u001b[0m\u001b[0mDIRBS\u001b[0m \u001b[0;34m+\u001b[0m \u001b[0mfilename\u001b[0m \u001b[0;34m+\u001b[0m \u001b[0;34m\".BSREAD.h5\"\u001b[0m\u001b[0;34m)\u001b[0m\u001b[0;34m\u001b[0m\u001b[0;34m\u001b[0m\u001b[0m\n\u001b[1;32m     12\u001b[0m \u001b[0;34m\u001b[0m\u001b[0m\n\u001b[0;32m---> 13\u001b[0;31m     \u001b[0mimages\u001b[0m\u001b[0;34m,\u001b[0m \u001b[0m_\u001b[0m \u001b[0;34m=\u001b[0m \u001b[0mload_JF_cropped_data\u001b[0m\u001b[0;34m(\u001b[0m\u001b[0mDIR\u001b[0m \u001b[0;34m+\u001b[0m \u001b[0mfilename\u001b[0m \u001b[0;34m+\u001b[0m \u001b[0;34m\".JF02T09V02crop.h5\"\u001b[0m \u001b[0;34m,\u001b[0m \u001b[0mroi\u001b[0m\u001b[0;34m,\u001b[0m \u001b[0mnshots\u001b[0m\u001b[0;34m=\u001b[0m\u001b[0;32mNone\u001b[0m\u001b[0;34m)\u001b[0m\u001b[0;34m\u001b[0m\u001b[0;34m\u001b[0m\u001b[0m\n\u001b[0m\u001b[1;32m     14\u001b[0m \u001b[0;34m\u001b[0m\u001b[0m\n\u001b[1;32m     15\u001b[0m \u001b[0;34m\u001b[0m\u001b[0m\n",
      "\u001b[0;32m/das/work/p17/p17983/alvra_tools/load_data.py\u001b[0m in \u001b[0;36mload_JF_cropped_data\u001b[0;34m(fname, roi, nshots)\u001b[0m\n\u001b[1;32m     94\u001b[0m \u001b[0;34m\u001b[0m\u001b[0m\n\u001b[1;32m     95\u001b[0m \u001b[0;32mdef\u001b[0m \u001b[0mload_JF_cropped_data\u001b[0m\u001b[0;34m(\u001b[0m\u001b[0mfname\u001b[0m\u001b[0;34m,\u001b[0m \u001b[0mroi\u001b[0m\u001b[0;34m,\u001b[0m \u001b[0mnshots\u001b[0m\u001b[0;34m=\u001b[0m\u001b[0;32mNone\u001b[0m\u001b[0;34m)\u001b[0m\u001b[0;34m:\u001b[0m\u001b[0;34m\u001b[0m\u001b[0;34m\u001b[0m\u001b[0m\n\u001b[0;32m---> 96\u001b[0;31m     \u001b[0;32mwith\u001b[0m \u001b[0mh5py\u001b[0m\u001b[0;34m.\u001b[0m\u001b[0mFile\u001b[0m\u001b[0;34m(\u001b[0m\u001b[0mfname\u001b[0m\u001b[0;34m,\u001b[0m \u001b[0;34m\"r\"\u001b[0m\u001b[0;34m)\u001b[0m \u001b[0;32mas\u001b[0m \u001b[0mf\u001b[0m\u001b[0;34m:\u001b[0m\u001b[0;34m\u001b[0m\u001b[0;34m\u001b[0m\u001b[0m\n\u001b[0m\u001b[1;32m     97\u001b[0m \u001b[0;34m\u001b[0m\u001b[0m\n\u001b[1;32m     98\u001b[0m         \u001b[0mprint\u001b[0m\u001b[0;34m(\u001b[0m\u001b[0;34mf\"images_roi{roi}\"\u001b[0m\u001b[0;34m)\u001b[0m\u001b[0;34m\u001b[0m\u001b[0;34m\u001b[0m\u001b[0m\n",
      "\u001b[0;32m/sf/alvra/anaconda/dev/lib/python3.6/site-packages/h5py/_hl/files.py\u001b[0m in \u001b[0;36m__init__\u001b[0;34m(self, name, mode, driver, libver, userblock_size, swmr, rdcc_nslots, rdcc_nbytes, rdcc_w0, track_order, **kwds)\u001b[0m\n\u001b[1;32m    392\u001b[0m                 fid = make_fid(name, mode, userblock_size,\n\u001b[1;32m    393\u001b[0m                                \u001b[0mfapl\u001b[0m\u001b[0;34m,\u001b[0m \u001b[0mfcpl\u001b[0m\u001b[0;34m=\u001b[0m\u001b[0mmake_fcpl\u001b[0m\u001b[0;34m(\u001b[0m\u001b[0mtrack_order\u001b[0m\u001b[0;34m=\u001b[0m\u001b[0mtrack_order\u001b[0m\u001b[0;34m)\u001b[0m\u001b[0;34m,\u001b[0m\u001b[0;34m\u001b[0m\u001b[0;34m\u001b[0m\u001b[0m\n\u001b[0;32m--> 394\u001b[0;31m                                swmr=swmr)\n\u001b[0m\u001b[1;32m    395\u001b[0m \u001b[0;34m\u001b[0m\u001b[0m\n\u001b[1;32m    396\u001b[0m             \u001b[0;32mif\u001b[0m \u001b[0mswmr_support\u001b[0m\u001b[0;34m:\u001b[0m\u001b[0;34m\u001b[0m\u001b[0;34m\u001b[0m\u001b[0m\n",
      "\u001b[0;32m/sf/alvra/anaconda/dev/lib/python3.6/site-packages/h5py/_hl/files.py\u001b[0m in \u001b[0;36mmake_fid\u001b[0;34m(name, mode, userblock_size, fapl, fcpl, swmr)\u001b[0m\n\u001b[1;32m    168\u001b[0m         \u001b[0;32mif\u001b[0m \u001b[0mswmr\u001b[0m \u001b[0;32mand\u001b[0m \u001b[0mswmr_support\u001b[0m\u001b[0;34m:\u001b[0m\u001b[0;34m\u001b[0m\u001b[0;34m\u001b[0m\u001b[0m\n\u001b[1;32m    169\u001b[0m             \u001b[0mflags\u001b[0m \u001b[0;34m|=\u001b[0m \u001b[0mh5f\u001b[0m\u001b[0;34m.\u001b[0m\u001b[0mACC_SWMR_READ\u001b[0m\u001b[0;34m\u001b[0m\u001b[0;34m\u001b[0m\u001b[0m\n\u001b[0;32m--> 170\u001b[0;31m         \u001b[0mfid\u001b[0m \u001b[0;34m=\u001b[0m \u001b[0mh5f\u001b[0m\u001b[0;34m.\u001b[0m\u001b[0mopen\u001b[0m\u001b[0;34m(\u001b[0m\u001b[0mname\u001b[0m\u001b[0;34m,\u001b[0m \u001b[0mflags\u001b[0m\u001b[0;34m,\u001b[0m \u001b[0mfapl\u001b[0m\u001b[0;34m=\u001b[0m\u001b[0mfapl\u001b[0m\u001b[0;34m)\u001b[0m\u001b[0;34m\u001b[0m\u001b[0;34m\u001b[0m\u001b[0m\n\u001b[0m\u001b[1;32m    171\u001b[0m     \u001b[0;32melif\u001b[0m \u001b[0mmode\u001b[0m \u001b[0;34m==\u001b[0m \u001b[0;34m'r+'\u001b[0m\u001b[0;34m:\u001b[0m\u001b[0;34m\u001b[0m\u001b[0;34m\u001b[0m\u001b[0m\n\u001b[1;32m    172\u001b[0m         \u001b[0mfid\u001b[0m \u001b[0;34m=\u001b[0m \u001b[0mh5f\u001b[0m\u001b[0;34m.\u001b[0m\u001b[0mopen\u001b[0m\u001b[0;34m(\u001b[0m\u001b[0mname\u001b[0m\u001b[0;34m,\u001b[0m \u001b[0mh5f\u001b[0m\u001b[0;34m.\u001b[0m\u001b[0mACC_RDWR\u001b[0m\u001b[0;34m,\u001b[0m \u001b[0mfapl\u001b[0m\u001b[0;34m=\u001b[0m\u001b[0mfapl\u001b[0m\u001b[0;34m)\u001b[0m\u001b[0;34m\u001b[0m\u001b[0;34m\u001b[0m\u001b[0m\n",
      "\u001b[0;32mh5py/_objects.pyx\u001b[0m in \u001b[0;36mh5py._objects.with_phil.wrapper\u001b[0;34m()\u001b[0m\n",
      "\u001b[0;32mh5py/_objects.pyx\u001b[0m in \u001b[0;36mh5py._objects.with_phil.wrapper\u001b[0;34m()\u001b[0m\n",
      "\u001b[0;32mh5py/h5f.pyx\u001b[0m in \u001b[0;36mh5py.h5f.open\u001b[0;34m()\u001b[0m\n",
      "\u001b[0;31mOSError\u001b[0m: Unable to open file (unable to open file: name = '/das/work/p17/p17983/cropped_data/RuBpy3_monoscan_015/RuBpy3_monoscan_015_step0010.JF02T09V02crop.h5', errno = 2, error message = 'No such file or directory', flags = 0, o_flags = 0)"
     ]
    }
   ],
   "source": [
    "\n",
    "#filename = \"run_000407\"\n",
    "filename = \"RuBpy3_monoscan_015_step0010\"\n",
    "#filename = \"RuBpy3_monoscan_004_step0005\"\n",
    "# filename = \"Ru_foil_XES_3keV_001\"\n",
    "#scan_name = \"RuBpy3_monoscan_004\"\n",
    "scan_name = \"2841eV_Rubpy3\"\n",
    "scan_name = \"RuBpy3_monoscan_015\"\n",
    "#DIR = \"/das/work/p17/p17983/cropped_data/scan_data/\" + scan_name + \"/\"\n",
    "DIR = \"/das/work/p17/p17983/cropped_data/\" + scan_name + \"/\"\n",
    "\n",
    "DIRBS = \"/sf/alvra/data/p17983/raw/scan_data/\" + scan_name + \"/\"\n",
    "#DIRBS = \"/sf/alvra/data/p17983/raw/\" + scan_name + \"/\"\n",
    "\n",
    "XES_01 = get_xes(filename, DIR, DIRBS, 3)\n",
    "XES_sum_01 = XES_01.sum(axis=0)"
   ]
  },
  {
   "cell_type": "code",
   "execution_count": null,
   "metadata": {
    "collapsed": true
   },
   "outputs": [],
   "source": [
    "filename = \"run_000382\"\n",
    "# scan_name = \"Ru_foil_monoscan_001\"\n",
    "DIR = \"/das/work/p17/p17983/cropped_data/Ru-foil/\"#scan_data/\" + scan_name + \"/\"\n",
    "DIRBS = \"/sf/alvra/data/p17983/raw/Ru-foil/\"#scan_data/Ru_foil_monoscan_001/\"\n",
    "XES_02 = get_xes(filename, DIR, DIRBS)\n",
    "XES_sum_02 = XES_02.sum(axis=0)"
   ]
  },
  {
   "cell_type": "code",
   "execution_count": null,
   "metadata": {
    "collapsed": true
   },
   "outputs": [],
   "source": [
    "plt.figure()\n",
    "plt.imshow(XES_01, vmax = 0.1, vmin = 0)\n",
    "plt.xlabel('JF pixel')\n",
    "plt.ylabel('JF pixel')\n",
    "plt.title('XES_PINK')\n",
    "plt.colorbar()"
   ]
  },
  {
   "cell_type": "code",
   "execution_count": null,
   "metadata": {
    "collapsed": true
   },
   "outputs": [],
   "source": [
    "plt.figure()\n",
    "plt.imshow(XES_02, vmax = 0.1, vmin = 0)\n",
    "plt.xlabel('JF pixel')\n",
    "plt.ylabel('JF pixel')\n",
    "plt.title('XES_MONO')\n",
    "plt.colorbar()"
   ]
  },
  {
   "cell_type": "code",
   "execution_count": null,
   "metadata": {
    "collapsed": true
   },
   "outputs": [],
   "source": [
    "plt.figure()\n",
    "plt.plot(XES_sum_01,label=\"XES_PINK\")\n",
    "plt.plot(XES_sum_02,label=\"XES_MONO\")\n",
    "plt.plot(XES_sum_01-XES_sum_02,label=\"Diffence\")\n",
    "plt.xlabel('JF pixel')\n",
    "plt.title('XES difference')\n",
    "plt.xlabel('JF Pixel')\n",
    "plt.ylabel('Counts of Some type')\n",
    "\n",
    "plt.legend()\n",
    "\n",
    "plt.xlim([0,200])"
   ]
  },
  {
   "cell_type": "code",
   "execution_count": null,
   "metadata": {
    "collapsed": true
   },
   "outputs": [],
   "source": []
  }
 ],
 "metadata": {
  "kernelspec": {
   "display_name": "Python [conda env:dev]",
   "language": "python",
   "name": "conda-env-dev-py"
  },
  "language_info": {
   "codemirror_mode": {
    "name": "ipython",
    "version": 3
   },
   "file_extension": ".py",
   "mimetype": "text/x-python",
   "name": "python",
   "nbconvert_exporter": "python",
   "pygments_lexer": "ipython3",
   "version": "3.6.7"
  }
 },
 "nbformat": 4,
 "nbformat_minor": 2
}
