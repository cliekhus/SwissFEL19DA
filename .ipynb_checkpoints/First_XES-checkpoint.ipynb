{
 "cells": [
  {
   "cell_type": "code",
   "execution_count": 1,
   "metadata": {
    "collapsed": true
   },
   "outputs": [],
   "source": [
    "import sys\n",
    "sys.path.insert(0, '/das/work/p17/p17983/')"
   ]
  },
  {
   "cell_type": "code",
   "execution_count": 2,
   "metadata": {},
   "outputs": [
    {
     "name": "stdout",
     "output_type": "stream",
     "text": [
      "[INFO][corrections] Numba not available, reverting to Numpy\n"
     ]
    }
   ],
   "source": [
    "%matplotlib nbagg\n",
    "import jungfrau_utils as ju\n",
    "import numpy as np\n",
    "import json\n",
    "import os\n",
    "import time\n",
    "from matplotlib import pyplot as plt\n",
    "from scipy.optimize import curve_fit\n",
    "\n",
    "import h5py\n",
    "\n",
    "from alvra_tools.load_data import *\n",
    "from alvra_tools.channels import *"
   ]
  },
  {
   "cell_type": "code",
   "execution_count": 3,
   "metadata": {},
   "outputs": [
    {
     "name": "stdout",
     "output_type": "stream",
     "text": [
      "Dimensions of G:  (4, 4608, 1024)\n",
      "Dimensions of P:  (4, 4608, 1024)\n",
      "Dimensions of mask:  (4608, 1024)\n"
     ]
    }
   ],
   "source": [
    "# Take the correct pedestal file (usually located in /sf/alvra/data/*pgroup*/res/JF_pedestals)\n",
    "# Take the correct gains.h5 file (usually located in /sf/alvra/config/jungfrau/gainMaps/JF02T09V01/)\n",
    "\n",
    "pede_file = \"/sf/alvra/data/p17983/res/JF_pedestals/pedestal_20190724_1140.JF02T09V02.res.h5\"\n",
    "\n",
    "gain_file = \"/sf/alvra/config/jungfrau/gainMaps/JF02T09V02/gains.h5\"\n",
    "\n",
    "with h5py.File(gain_file, \"r\") as file: \n",
    "    G = file[\"gains\"][:]\n",
    "    \n",
    "with h5py.File(pede_file, \"r\") as file: \n",
    "    P = file[\"gains\"][:]\n",
    "    mask = file[\"pixel_mask\"][:]\n",
    "\n",
    "print(\"Dimensions of G: \", G.shape)\n",
    "print(\"Dimensions of P: \", P.shape)\n",
    "print(\"Dimensions of mask: \", mask.shape)\n",
    "\n",
    "# Detector name for loading module map and applying geometry\n",
    "detector_name = \"JF02T09V02\""
   ]
  },
  {
   "cell_type": "code",
   "execution_count": 4,
   "metadata": {},
   "outputs": [
    {
     "ename": "FileNotFoundError",
     "evalue": "[Errno 2] No such file or directory: '/sf/alvra/data/p17983/raw/scan_data/jet_timings_002'",
     "output_type": "error",
     "traceback": [
      "\u001b[0;31m---------------------------------------------------------------------------\u001b[0m",
      "\u001b[0;31mFileNotFoundError\u001b[0m                         Traceback (most recent call last)",
      "\u001b[0;32m<ipython-input-4-c46c35a412e4>\u001b[0m in \u001b[0;36m<module>\u001b[0;34m\u001b[0m\n\u001b[1;32m      2\u001b[0m \u001b[0mBSDIR\u001b[0m \u001b[0;34m=\u001b[0m \u001b[0;34m\"/das/worl/p17/p17983/cropped_data/scan_data/jet_timings_002\"\u001b[0m \u001b[0;31m#uncropped dataBSDIR=DIR\u001b[0m\u001b[0;34m\u001b[0m\u001b[0;34m\u001b[0m\u001b[0m\n\u001b[1;32m      3\u001b[0m \u001b[0;34m\u001b[0m\u001b[0m\n\u001b[0;32m----> 4\u001b[0;31m \u001b[0mlistfile\u001b[0m \u001b[0;34m=\u001b[0m \u001b[0mos\u001b[0m\u001b[0;34m.\u001b[0m\u001b[0mlistdir\u001b[0m\u001b[0;34m(\u001b[0m\u001b[0mDIR\u001b[0m\u001b[0;34m)\u001b[0m\u001b[0;34m\u001b[0m\u001b[0;34m\u001b[0m\u001b[0m\n\u001b[0m\u001b[1;32m      5\u001b[0m \u001b[0mnumber_files\u001b[0m \u001b[0;34m=\u001b[0m \u001b[0mlen\u001b[0m\u001b[0;34m(\u001b[0m\u001b[0mlistfile\u001b[0m\u001b[0;34m)\u001b[0m\u001b[0;34m\u001b[0m\u001b[0;34m\u001b[0m\u001b[0m\n\u001b[1;32m      6\u001b[0m \u001b[0mprint\u001b[0m \u001b[0;34m(\u001b[0m\u001b[0;34m\"There are\"\u001b[0m\u001b[0;34m,\u001b[0m\u001b[0mnumber_files\u001b[0m\u001b[0;34m,\u001b[0m\u001b[0;34m\"files in the folder\"\u001b[0m\u001b[0;34m,\u001b[0m \u001b[0mDIR\u001b[0m\u001b[0;34m)\u001b[0m\u001b[0;34m\u001b[0m\u001b[0;34m\u001b[0m\u001b[0m\n",
      "\u001b[0;31mFileNotFoundError\u001b[0m: [Errno 2] No such file or directory: '/sf/alvra/data/p17983/raw/scan_data/jet_timings_002'"
     ]
    }
   ],
   "source": [
    "DIR = \"/sf/alvra/data/p17983/raw/scan_data/jet_timings_002\"\n",
    "BSDIR = \"/das/worl/p17/p17983/cropped_data/scan_data/jet_timings_002\" #uncropped dataBSDIR=DIR\n",
    "\n",
    "listfile = os.listdir(DIR)\n",
    "number_files = len(listfile)\n",
    "print (\"There are\",number_files,\"files in the folder\", DIR)"
   ]
  },
  {
   "cell_type": "code",
   "execution_count": null,
   "metadata": {
    "collapsed": true
   },
   "outputs": [],
   "source": [
    "filename = \"monoscan_2.9keV_001_step0000.JF02T09V02.h5\"\n",
    "bsreadfile = \"Ru_foil_XES_3keV_001.BSREAD.h5\"\n",
    "\n",
    "images_off, images_on, pulse_ids_off, pulse_ids_on = load_JF_data_on_off(DIR + filename, 50, 50, nshots=None)\n",
    "(DataFluo_pump, DataFluo_unpump, IzeroFEL_pump, IzeroFEL_unpump, BS_pulse_ids_pump, BS_pulse_ids_unpump, _, _) = \\\n",
    "         load_PumpProbe_events(DIR+bsreadfile, channel_BS_pulse_ids)\n",
    "    \n"
   ]
  },
  {
   "cell_type": "markdown",
   "metadata": {},
   "source": [
    "Right now it seems like the on and off data is flipped coming from the load_JF_data_on_off function.  Will need to fix this.  For now I am just coding is backwards."
   ]
  },
  {
   "cell_type": "code",
   "execution_count": null,
   "metadata": {
    "collapsed": true
   },
   "outputs": [],
   "source": [
    "nframes = images_on.shape[0]\n",
    "print('number of frames')\n",
    "print(nframes)\n",
    "nframes = 1\n",
    "\n",
    "X = [a==b and c==d for a,b,c,d in zip(pulse_ids_on, BS_pulse_ids_pump, pulse_ids_off, BS_pulse_ids_unpump)]\n",
    "if sum([int(x) for x in X]) == images_on.shape[0]:\n",
    "    print('passed pulse id check')\n",
    "else:\n",
    "    print('failed pulse id check')\n"
   ]
  },
  {
   "cell_type": "code",
   "execution_count": null,
   "metadata": {
    "collapsed": true
   },
   "outputs": [],
   "source": [
    "numstds = 2\n",
    "minIzero = 0.002\n",
    "image_threshold = 4\n",
    "hot_pixel = 10\n",
    "\n",
    "total_on = 0\n",
    "total_off = 0\n",
    "\n",
    "IzeroMedian = np.median(np.concatenate([IzeroFEL_pump, IzeroFEL_unpump]))\n",
    "IzeroSTD = np.std(np.concatenate([IzeroFEL_pump, IzeroFEL_unpump]))\n",
    "\n",
    "for i in range(nframes):\n",
    "    \n",
    "    conditionPumpMax = IzeroFEL_pump[i] < IzeroMedian+numstds*IzeroSTD\n",
    "    conditionPumpMin = IzeroFEL_pump[i] > IzeroMedian-numstds*IzeroSTD\n",
    "    conditionPumpLow = IzeroFEL_pump[i] > minIzero\n",
    "    \n",
    "    if conditionPumpMax and conditionPumpMin and conditionPumpLow:\n",
    "\n",
    "        image_on = images_on[i, :]\n",
    "        image_on = ju.apply_gain_pede(image_on, G=G, P=P, pixel_mask=mask, highgain=False)\n",
    "        image_on_thr = image_on.copy()\n",
    "        image_on_thr[image_on < image_threshold] = 0\n",
    "        image_on_thr[image_on > hot_pixel] = 0\n",
    "        total_on += image_on_thr\n",
    "        #total_on += image_on_thr/IzeroFEL_pump[i]\n",
    "    \n",
    "    conditionUnPumpMax = IzeroFEL_unpump[i] < IzeroMedian+numstds*IzeroSTD\n",
    "    conditionUnPumpMin = IzeroFEL_unpump[i] > IzeroMedian-numstds*IzeroSTD\n",
    "    conditionUnPumpLow = IzeroFEL_unpump[i] > minIzero\n",
    "    \n",
    "    if conditionUnPumpMax and conditionUnPumpMin and conditionUnPumpLow:\n",
    "        \n",
    "        image_off = images_off[i, :]\n",
    "        image_off = ju.apply_gain_pede(image_off, G=G, P=P, pixel_mask=mask, highgain=False)\n",
    "        image_off_thr = image_off.copy()\n",
    "        image_off_thr[image_off < image_threshold] = 0\n",
    "        image_off_thr[image_off > hot_pixel] = 0\n",
    "        total_off += image_off_thr\n",
    "        #total_off += image_off_thr/IzeroFEL_unpump[i]\n",
    "\n",
    "total_on_corr = ju.apply_geometry(total_on, detector_name)\n",
    "total_off_corr = ju.apply_geometry(total_off, detector_name)\n",
    "\n",
    "print(total_on_corr.shape)\n",
    "print(total_off_corr.shape)\n"
   ]
  },
  {
   "cell_type": "code",
   "execution_count": null,
   "metadata": {
    "collapsed": true
   },
   "outputs": [],
   "source": [
    "plt.figure()\n",
    "_ = plt.hist(total_off_corr.ravel(),1000)"
   ]
  },
  {
   "cell_type": "code",
   "execution_count": null,
   "metadata": {
    "collapsed": true
   },
   "outputs": [],
   "source": [
    "print(np.mean(np.ndarray.flatten(total_on_corr)))\n",
    "print(max(np.ndarray.flatten(total_on_corr)))\n",
    "\n",
    "plt.figure()\n",
    "plt.subplots_adjust(wspace=100)\n",
    "plt.subplot(211)\n",
    "plt.imshow(total_on_corr, origin=\"lower\", aspect='auto', vmin=0, vmax = 10)\n",
    "#, vmax=1000)\n",
    "plt.colorbar()\n",
    "plt.title('total_on_corr')\n",
    "plt.subplot(212)\n",
    "plt.imshow(total_off_corr, origin=\"lower\", aspect='auto', vmin=0, vmax=1000)\n",
    "plt.colorbar()\n",
    "plt.title('total_off_corr')\n",
    "plt.tight_layout()\n",
    "plt.show()\n"
   ]
  },
  {
   "cell_type": "code",
   "execution_count": null,
   "metadata": {
    "collapsed": true,
    "scrolled": false
   },
   "outputs": [],
   "source": [
    "XES_off = np.sum(total_off_corr,axis=0)\n",
    "print(XES_off.size)\n",
    "print(total_off_corr.shape)\n",
    "\n",
    "plt.figure()\n",
    "plt.plot(XES_off)\n",
    "plt.xlabel('pixel')\n",
    "plt.title('XES off')\n",
    "\n",
    "XES_on = np.sum(total_on_corr,axis=0)\n",
    "print(XES_on.size)\n",
    "print(total_on_corr.shape)\n",
    "\n",
    "plt.figure()\n",
    "plt.plot(XES_on)\n",
    "plt.xlabel('pixel')\n",
    "plt.title('XES on')\n",
    "\n",
    "plt.figure()\n",
    "plt.plot(XES_off-XES_on)\n",
    "plt.xlabel('pixel')\n",
    "plt.title('off - on')\n",
    "\n"
   ]
  },
  {
   "cell_type": "code",
   "execution_count": null,
   "metadata": {
    "collapsed": true
   },
   "outputs": [],
   "source": []
  }
 ],
 "metadata": {
  "kernelspec": {
   "display_name": "Python [conda env:dev]",
   "language": "python",
   "name": "conda-env-dev-py"
  },
  "language_info": {
   "codemirror_mode": {
    "name": "ipython",
    "version": 3
   },
   "file_extension": ".py",
   "mimetype": "text/x-python",
   "name": "python",
   "nbconvert_exporter": "python",
   "pygments_lexer": "ipython3",
   "version": "3.6.7"
  }
 },
 "nbformat": 4,
 "nbformat_minor": 2
}
