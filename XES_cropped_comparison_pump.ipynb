{
 "cells": [
  {
   "cell_type": "code",
   "execution_count": 2,
   "metadata": {
    "collapsed": true
   },
   "outputs": [],
   "source": [
    "import sys\n",
    "sys.path.insert(0, '/das/work/p17/p17983/')"
   ]
  },
  {
   "cell_type": "code",
   "execution_count": 3,
   "metadata": {},
   "outputs": [
    {
     "name": "stdout",
     "output_type": "stream",
     "text": [
      "[INFO][corrections] Numba not available, reverting to Numpy\n"
     ]
    }
   ],
   "source": [
    "%matplotlib nbagg\n",
    "import jungfrau_utils as ju\n",
    "import numpy as np\n",
    "import json\n",
    "import os\n",
    "import time\n",
    "from matplotlib import pyplot as plt\n",
    "from scipy.optimize import curve_fit\n",
    "\n",
    "import h5py\n",
    "\n",
    "from alvra_tools.load_data import *\n",
    "from alvra_tools.channels import *"
   ]
  },
  {
   "cell_type": "code",
   "execution_count": 8,
   "metadata": {
    "scrolled": true
   },
   "outputs": [],
   "source": [
    "def get_xes_pumped(filename, DIR, DIRBS,roi, ispump):\n",
    "    numstds = 2\n",
    "    minIzero = 0.002\n",
    "    image_threshold = .05\n",
    "    hot_pixel = 7.5\n",
    "\n",
    "#     filename = \"Ru_foil_monoscan_001_step0010\"\n",
    "\n",
    "    print(DIR + filename + \".JF02T09V02crop.h5\")\n",
    "    print()\n",
    "    print(DIRBS + filename + \".BSREAD.h5\")\n",
    "    \n",
    "    \n",
    "    if ispump == 'pumped':\n",
    "        #images, _ = load_JF_cropped_data(DIR + filename + \".JF02T09V02crop.h5\" , roi, nshots=None)\n",
    "        (images, _, _, _, _, _) = load_crop_JF_data_on_off(DIR + filename + \".JF02T09V02crop.h5\", 2, 3, 50, 25)\n",
    "        (_, _, IzeroFEL, _, _, _, Energy, _, _, _ )\\\n",
    "            = load_PumpProbe_events_withTwoVariables(DIRBS + filename + \".BSREAD.h5\", channel_BS_pulse_ids, channel_energy)\n",
    "    else:\n",
    "        #images, _ = load_JF_cropped_data(DIR + filename + \".JF02T09V02crop.h5\" , roi, nshots=None)\n",
    "        (_, _, _, images, _, _) = load_crop_JF_data_on_off(DIR + filename + \".JF02T09V02crop.h5\", 2, 3, 50, 25)\n",
    "        (_, _, _, IzeroFEL, _, _, Energy, _, _, _ )\\\n",
    "            = load_PumpProbe_events_withTwoVariables(DIRBS + filename + \".BSREAD.h5\", channel_BS_pulse_ids, channel_energy)\n",
    "   \n",
    "\n",
    "    total = 0\n",
    "\n",
    "\n",
    "    IzeroMedian = np.median(IzeroFEL)\n",
    "    IzeroSTD = np.std(IzeroFEL)\n",
    "\n",
    "    nframes = images.shape\n",
    "\n",
    "#     IzeroMedian = np.median(IzeroFEL)\n",
    "#     IzeroSTD = np.std(IzeroFEL)\n",
    "\n",
    "    print('number of frames')\n",
    "    print(nframes)\n",
    "\n",
    "    images_good = images\n",
    "\n",
    "    images_thr = images_good.copy()\n",
    "    images_thr[images_good < image_threshold] = 0\n",
    "    images_thr[images_good > hot_pixel] = 0\n",
    "\n",
    "    conditionMax = IzeroFEL < IzeroMedian+numstds*IzeroSTD\n",
    "    conditionMin = IzeroFEL > IzeroMedian-numstds*IzeroSTD\n",
    "    conditionLow = IzeroFEL > minIzero\n",
    "    condition = np.logical_and.reduce((conditionLow, conditionMin, conditionMax)).T[0]\n",
    "\n",
    "    images_thr = images_thr[condition]\n",
    "\n",
    "    print('number of surviving frames')\n",
    "    print(images_thr.shape[0])\n",
    "\n",
    "    XES = images_thr.sum(axis=0)/images_thr.shape[0]\n",
    "\n",
    "    print(\"XES size\")\n",
    "    print(XES.shape)\n",
    "\n",
    "    return XES\n"
   ]
  },
  {
   "cell_type": "code",
   "execution_count": 9,
   "metadata": {},
   "outputs": [
    {
     "name": "stdout",
     "output_type": "stream",
     "text": [
      "/das/work/p17/p17983/cropped_data/scan_data/RuBpy3_monoscan_004/RuBpy3_monoscan_004_step0005.JF02T09V02crop.h5\n",
      "\n",
      "/sf/alvra/data/p17983/raw/scan_data/RuBpy3_monoscan_004/RuBpy3_monoscan_004_step0005.BSREAD.h5\n"
     ]
    },
    {
     "ename": "KeyError",
     "evalue": "'Unable to open object (component not found)'",
     "output_type": "error",
     "traceback": [
      "\u001b[0;31m---------------------------------------------------------------------------\u001b[0m",
      "\u001b[0;31mKeyError\u001b[0m                                  Traceback (most recent call last)",
      "\u001b[0;32m<ipython-input-9-15de2acff469>\u001b[0m in \u001b[0;36m<module>\u001b[0;34m\u001b[0m\n\u001b[1;32m      5\u001b[0m \u001b[0;34m\u001b[0m\u001b[0m\n\u001b[1;32m      6\u001b[0m \u001b[0mDIRBS\u001b[0m \u001b[0;34m=\u001b[0m \u001b[0;34m\"/sf/alvra/data/p17983/raw/scan_data/\"\u001b[0m \u001b[0;34m+\u001b[0m \u001b[0mscan_name\u001b[0m \u001b[0;34m+\u001b[0m \u001b[0;34m\"/\"\u001b[0m\u001b[0;34m\u001b[0m\u001b[0;34m\u001b[0m\u001b[0m\n\u001b[0;32m----> 7\u001b[0;31m \u001b[0mXES_01\u001b[0m \u001b[0;34m=\u001b[0m \u001b[0mget_xes_pumped\u001b[0m\u001b[0;34m(\u001b[0m\u001b[0mfilename\u001b[0m\u001b[0;34m,\u001b[0m \u001b[0mDIR\u001b[0m\u001b[0;34m,\u001b[0m \u001b[0mDIRBS\u001b[0m\u001b[0;34m,\u001b[0m \u001b[0;36m2\u001b[0m\u001b[0;34m,\u001b[0m\u001b[0;34m'pumped'\u001b[0m\u001b[0;34m)\u001b[0m\u001b[0;34m\u001b[0m\u001b[0;34m\u001b[0m\u001b[0m\n\u001b[0m\u001b[1;32m      8\u001b[0m \u001b[0mXES_02\u001b[0m \u001b[0;34m=\u001b[0m \u001b[0mget_xes_pumped\u001b[0m\u001b[0;34m(\u001b[0m\u001b[0mfilename\u001b[0m\u001b[0;34m,\u001b[0m \u001b[0mDIR\u001b[0m\u001b[0;34m,\u001b[0m \u001b[0mDIRBS\u001b[0m\u001b[0;34m,\u001b[0m \u001b[0;36m2\u001b[0m\u001b[0;34m,\u001b[0m\u001b[0;34m'unpumped'\u001b[0m\u001b[0;34m)\u001b[0m\u001b[0;34m\u001b[0m\u001b[0;34m\u001b[0m\u001b[0m\n\u001b[1;32m      9\u001b[0m \u001b[0mXES_sum_01\u001b[0m \u001b[0;34m=\u001b[0m \u001b[0mXES_01\u001b[0m\u001b[0;34m.\u001b[0m\u001b[0msum\u001b[0m\u001b[0;34m(\u001b[0m\u001b[0maxis\u001b[0m\u001b[0;34m=\u001b[0m\u001b[0;36m0\u001b[0m\u001b[0;34m)\u001b[0m\u001b[0;34m\u001b[0m\u001b[0;34m\u001b[0m\u001b[0m\n",
      "\u001b[0;32m<ipython-input-8-f1b44c4505d8>\u001b[0m in \u001b[0;36mget_xes_pumped\u001b[0;34m(filename, DIR, DIRBS, roi, ispump)\u001b[0m\n\u001b[1;32m     14\u001b[0m     \u001b[0;32mif\u001b[0m \u001b[0mispump\u001b[0m \u001b[0;34m==\u001b[0m \u001b[0;34m'pumped'\u001b[0m\u001b[0;34m:\u001b[0m\u001b[0;34m\u001b[0m\u001b[0;34m\u001b[0m\u001b[0m\n\u001b[1;32m     15\u001b[0m         \u001b[0;31m#images, _ = load_JF_cropped_data(DIR + filename + \".JF02T09V02crop.h5\" , roi, nshots=None)\u001b[0m\u001b[0;34m\u001b[0m\u001b[0;34m\u001b[0m\u001b[0;34m\u001b[0m\u001b[0m\n\u001b[0;32m---> 16\u001b[0;31m         \u001b[0;34m(\u001b[0m\u001b[0mimages\u001b[0m\u001b[0;34m,\u001b[0m \u001b[0m_\u001b[0m\u001b[0;34m,\u001b[0m \u001b[0m_\u001b[0m\u001b[0;34m,\u001b[0m \u001b[0m_\u001b[0m\u001b[0;34m,\u001b[0m \u001b[0m_\u001b[0m\u001b[0;34m,\u001b[0m \u001b[0m_\u001b[0m\u001b[0;34m)\u001b[0m \u001b[0;34m=\u001b[0m \u001b[0mload_crop_JF_data_on_off\u001b[0m\u001b[0;34m(\u001b[0m\u001b[0mDIR\u001b[0m \u001b[0;34m+\u001b[0m \u001b[0mfilename\u001b[0m \u001b[0;34m+\u001b[0m \u001b[0;34m\".JF02T09V02crop.h5\"\u001b[0m\u001b[0;34m,\u001b[0m \u001b[0;36m2\u001b[0m\u001b[0;34m,\u001b[0m \u001b[0;36m3\u001b[0m\u001b[0;34m,\u001b[0m \u001b[0;36m50\u001b[0m\u001b[0;34m,\u001b[0m \u001b[0;36m25\u001b[0m\u001b[0;34m)\u001b[0m\u001b[0;34m\u001b[0m\u001b[0;34m\u001b[0m\u001b[0m\n\u001b[0m\u001b[1;32m     17\u001b[0m         \u001b[0;34m(\u001b[0m\u001b[0m_\u001b[0m\u001b[0;34m,\u001b[0m \u001b[0m_\u001b[0m\u001b[0;34m,\u001b[0m \u001b[0mIzeroFEL\u001b[0m\u001b[0;34m,\u001b[0m \u001b[0m_\u001b[0m\u001b[0;34m,\u001b[0m \u001b[0m_\u001b[0m\u001b[0;34m,\u001b[0m \u001b[0m_\u001b[0m\u001b[0;34m,\u001b[0m \u001b[0mEnergy\u001b[0m\u001b[0;34m,\u001b[0m \u001b[0m_\u001b[0m\u001b[0;34m,\u001b[0m \u001b[0m_\u001b[0m\u001b[0;34m,\u001b[0m \u001b[0m_\u001b[0m \u001b[0;34m)\u001b[0m\u001b[0;31m\\\u001b[0m\u001b[0;34m\u001b[0m\u001b[0;34m\u001b[0m\u001b[0m\n\u001b[1;32m     18\u001b[0m             \u001b[0;34m=\u001b[0m \u001b[0mload_PumpProbe_events_withTwoVariables\u001b[0m\u001b[0;34m(\u001b[0m\u001b[0mDIRBS\u001b[0m \u001b[0;34m+\u001b[0m \u001b[0mfilename\u001b[0m \u001b[0;34m+\u001b[0m \u001b[0;34m\".BSREAD.h5\"\u001b[0m\u001b[0;34m,\u001b[0m \u001b[0mchannel_BS_pulse_ids\u001b[0m\u001b[0;34m,\u001b[0m \u001b[0mchannel_energy\u001b[0m\u001b[0;34m)\u001b[0m\u001b[0;34m\u001b[0m\u001b[0;34m\u001b[0m\u001b[0m\n",
      "\u001b[0;32m/das/work/p17/p17983/alvra_tools/load_data.py\u001b[0m in \u001b[0;36mload_crop_JF_data_on_off\u001b[0;34m(fname, roi1, roi2, reprate_FEL, reprate_laser, G, P, pixel_mask, highgain, nshots)\u001b[0m\n\u001b[1;32m    193\u001b[0m def load_crop_JF_data_on_off(fname, roi1, roi2, reprate_FEL, reprate_laser,\n\u001b[1;32m    194\u001b[0m                              G=None, P=None, pixel_mask=None, highgain=False, nshots=None):\n\u001b[0;32m--> 195\u001b[0;31m     \u001b[0mimages\u001b[0m\u001b[0;34m,\u001b[0m \u001b[0mpulse_ids\u001b[0m \u001b[0;34m=\u001b[0m \u001b[0mload_JF_data\u001b[0m\u001b[0;34m(\u001b[0m\u001b[0mfname\u001b[0m\u001b[0;34m,\u001b[0m \u001b[0mnshots\u001b[0m\u001b[0;34m=\u001b[0m\u001b[0mnshots\u001b[0m\u001b[0;34m)\u001b[0m\u001b[0;34m\u001b[0m\u001b[0;34m\u001b[0m\u001b[0m\n\u001b[0m\u001b[1;32m    196\u001b[0m \u001b[0;34m\u001b[0m\u001b[0m\n\u001b[1;32m    197\u001b[0m     \u001b[0;32mwith\u001b[0m \u001b[0mh5py\u001b[0m\u001b[0;34m.\u001b[0m\u001b[0mFile\u001b[0m\u001b[0;34m(\u001b[0m\u001b[0mfname\u001b[0m\u001b[0;34m,\u001b[0m \u001b[0;34m\"r\"\u001b[0m\u001b[0;34m)\u001b[0m \u001b[0;32mas\u001b[0m \u001b[0mf\u001b[0m\u001b[0;34m:\u001b[0m\u001b[0;34m\u001b[0m\u001b[0;34m\u001b[0m\u001b[0m\n",
      "\u001b[0;32m/das/work/p17/p17983/alvra_tools/load_data.py\u001b[0m in \u001b[0;36mload_JF_data\u001b[0;34m(fname, nshots)\u001b[0m\n\u001b[1;32m     84\u001b[0m \u001b[0;32mdef\u001b[0m \u001b[0mload_JF_data\u001b[0m\u001b[0;34m(\u001b[0m\u001b[0mfname\u001b[0m\u001b[0;34m,\u001b[0m \u001b[0mnshots\u001b[0m\u001b[0;34m=\u001b[0m\u001b[0;32mNone\u001b[0m\u001b[0;34m)\u001b[0m\u001b[0;34m:\u001b[0m\u001b[0;34m\u001b[0m\u001b[0;34m\u001b[0m\u001b[0m\n\u001b[1;32m     85\u001b[0m     \u001b[0;32mwith\u001b[0m \u001b[0mh5py\u001b[0m\u001b[0;34m.\u001b[0m\u001b[0mFile\u001b[0m\u001b[0;34m(\u001b[0m\u001b[0mfname\u001b[0m\u001b[0;34m,\u001b[0m \u001b[0;34m\"r\"\u001b[0m\u001b[0;34m)\u001b[0m \u001b[0;32mas\u001b[0m \u001b[0mf\u001b[0m\u001b[0;34m:\u001b[0m\u001b[0;34m\u001b[0m\u001b[0;34m\u001b[0m\u001b[0m\n\u001b[0;32m---> 86\u001b[0;31m         \u001b[0mdetector_name\u001b[0m \u001b[0;34m=\u001b[0m \u001b[0m_get_detector_name\u001b[0m\u001b[0;34m(\u001b[0m\u001b[0mf\u001b[0m\u001b[0;34m)\u001b[0m\u001b[0;34m\u001b[0m\u001b[0;34m\u001b[0m\u001b[0m\n\u001b[0m\u001b[1;32m     87\u001b[0m \u001b[0;34m\u001b[0m\u001b[0m\n\u001b[1;32m     88\u001b[0m         \u001b[0mdata\u001b[0m \u001b[0;34m=\u001b[0m \u001b[0m_get_data\u001b[0m\u001b[0;34m(\u001b[0m\u001b[0mf\u001b[0m\u001b[0;34m)\u001b[0m\u001b[0;34m\u001b[0m\u001b[0;34m\u001b[0m\u001b[0m\n",
      "\u001b[0;32m/das/work/p17/p17983/alvra_tools/load_data.py\u001b[0m in \u001b[0;36m_get_detector_name\u001b[0;34m(f)\u001b[0m\n\u001b[1;32m     35\u001b[0m \u001b[0;34m\u001b[0m\u001b[0m\n\u001b[1;32m     36\u001b[0m \u001b[0;32mdef\u001b[0m \u001b[0m_get_detector_name\u001b[0m\u001b[0;34m(\u001b[0m\u001b[0mf\u001b[0m\u001b[0;34m)\u001b[0m\u001b[0;34m:\u001b[0m\u001b[0;34m\u001b[0m\u001b[0;34m\u001b[0m\u001b[0m\n\u001b[0;32m---> 37\u001b[0;31m     \u001b[0;32mreturn\u001b[0m \u001b[0mf\u001b[0m\u001b[0;34m[\u001b[0m\u001b[0;34m\"general/detector_name\"\u001b[0m\u001b[0;34m]\u001b[0m\u001b[0;34m[\u001b[0m\u001b[0;34m(\u001b[0m\u001b[0;34m)\u001b[0m\u001b[0;34m]\u001b[0m\u001b[0;34m.\u001b[0m\u001b[0mdecode\u001b[0m\u001b[0;34m(\u001b[0m\u001b[0;34m)\u001b[0m\u001b[0;34m\u001b[0m\u001b[0;34m\u001b[0m\u001b[0m\n\u001b[0m\u001b[1;32m     38\u001b[0m \u001b[0;34m\u001b[0m\u001b[0m\n\u001b[1;32m     39\u001b[0m \u001b[0;32mdef\u001b[0m \u001b[0m_get_module_map\u001b[0m\u001b[0;34m(\u001b[0m\u001b[0mf\u001b[0m\u001b[0;34m)\u001b[0m\u001b[0;34m:\u001b[0m\u001b[0;34m\u001b[0m\u001b[0;34m\u001b[0m\u001b[0m\n",
      "\u001b[0;32mh5py/_objects.pyx\u001b[0m in \u001b[0;36mh5py._objects.with_phil.wrapper\u001b[0;34m()\u001b[0m\n",
      "\u001b[0;32mh5py/_objects.pyx\u001b[0m in \u001b[0;36mh5py._objects.with_phil.wrapper\u001b[0;34m()\u001b[0m\n",
      "\u001b[0;32m/sf/alvra/anaconda/dev/lib/python3.6/site-packages/h5py/_hl/group.py\u001b[0m in \u001b[0;36m__getitem__\u001b[0;34m(self, name)\u001b[0m\n\u001b[1;32m    260\u001b[0m                 \u001b[0;32mraise\u001b[0m \u001b[0mValueError\u001b[0m\u001b[0;34m(\u001b[0m\u001b[0;34m\"Invalid HDF5 object reference\"\u001b[0m\u001b[0;34m)\u001b[0m\u001b[0;34m\u001b[0m\u001b[0;34m\u001b[0m\u001b[0m\n\u001b[1;32m    261\u001b[0m         \u001b[0;32melse\u001b[0m\u001b[0;34m:\u001b[0m\u001b[0;34m\u001b[0m\u001b[0;34m\u001b[0m\u001b[0m\n\u001b[0;32m--> 262\u001b[0;31m             \u001b[0moid\u001b[0m \u001b[0;34m=\u001b[0m \u001b[0mh5o\u001b[0m\u001b[0;34m.\u001b[0m\u001b[0mopen\u001b[0m\u001b[0;34m(\u001b[0m\u001b[0mself\u001b[0m\u001b[0;34m.\u001b[0m\u001b[0mid\u001b[0m\u001b[0;34m,\u001b[0m \u001b[0mself\u001b[0m\u001b[0;34m.\u001b[0m\u001b[0m_e\u001b[0m\u001b[0;34m(\u001b[0m\u001b[0mname\u001b[0m\u001b[0;34m)\u001b[0m\u001b[0;34m,\u001b[0m \u001b[0mlapl\u001b[0m\u001b[0;34m=\u001b[0m\u001b[0mself\u001b[0m\u001b[0;34m.\u001b[0m\u001b[0m_lapl\u001b[0m\u001b[0;34m)\u001b[0m\u001b[0;34m\u001b[0m\u001b[0;34m\u001b[0m\u001b[0m\n\u001b[0m\u001b[1;32m    263\u001b[0m \u001b[0;34m\u001b[0m\u001b[0m\n\u001b[1;32m    264\u001b[0m         \u001b[0motype\u001b[0m \u001b[0;34m=\u001b[0m \u001b[0mh5i\u001b[0m\u001b[0;34m.\u001b[0m\u001b[0mget_type\u001b[0m\u001b[0;34m(\u001b[0m\u001b[0moid\u001b[0m\u001b[0;34m)\u001b[0m\u001b[0;34m\u001b[0m\u001b[0;34m\u001b[0m\u001b[0m\n",
      "\u001b[0;32mh5py/_objects.pyx\u001b[0m in \u001b[0;36mh5py._objects.with_phil.wrapper\u001b[0;34m()\u001b[0m\n",
      "\u001b[0;32mh5py/_objects.pyx\u001b[0m in \u001b[0;36mh5py._objects.with_phil.wrapper\u001b[0;34m()\u001b[0m\n",
      "\u001b[0;32mh5py/h5o.pyx\u001b[0m in \u001b[0;36mh5py.h5o.open\u001b[0;34m()\u001b[0m\n",
      "\u001b[0;31mKeyError\u001b[0m: 'Unable to open object (component not found)'"
     ]
    }
   ],
   "source": [
    "\n",
    "filename = \"RuBpy3_monoscan_004_step0005\"\n",
    "# filename = \"Ru_foil_XES_3keV_001\"\n",
    "scan_name = \"RuBpy3_monoscan_004\"\n",
    "DIR = \"/das/work/p17/p17983/cropped_data/scan_data/\" + scan_name + \"/\"\n",
    "\n",
    "DIRBS = \"/sf/alvra/data/p17983/raw/scan_data/\" + scan_name + \"/\"\n",
    "XES_01 = get_xes_pumped(filename, DIR, DIRBS, 2,'pumped')\n",
    "XES_02 = get_xes_pumped(filename, DIR, DIRBS, 2,'unpumped')\n",
    "XES_sum_01 = XES_01.sum(axis=0)\n",
    "XES_sum_02 = XES_02.sum(axis=0)"
   ]
  },
  {
   "cell_type": "code",
   "execution_count": null,
   "metadata": {
    "collapsed": true
   },
   "outputs": [],
   "source": [
    "filename = \"run_000382\"\n",
    "# scan_name = \"Ru_foil_monoscan_001\"\n",
    "DIR = \"/das/work/p17/p17983/cropped_data/Ru-foil/\"#scan_data/\" + scan_name + \"/\"\n",
    "DIRBS = \"/sf/alvra/data/p17983/raw/Ru-foil/\"#scan_data/Ru_foil_monoscan_001/\"\n",
    "XES_02 = get_xes(filename, DIR, DIRBS)\n",
    "XES_sum_02 = XES_02.sum(axis=0)"
   ]
  },
  {
   "cell_type": "code",
   "execution_count": null,
   "metadata": {
    "collapsed": true
   },
   "outputs": [],
   "source": [
    "plt.figure()\n",
    "plt.imshow(XES_01, vmax = 0.1, vmin = 0)\n",
    "plt.xlabel('JF pixel')\n",
    "plt.ylabel('JF pixel')\n",
    "plt.title('XES_PINK')\n",
    "plt.colorbar()"
   ]
  },
  {
   "cell_type": "code",
   "execution_count": null,
   "metadata": {
    "collapsed": true
   },
   "outputs": [],
   "source": [
    "plt.figure()\n",
    "plt.imshow(XES_02, vmax = 0.1, vmin = 0)\n",
    "plt.xlabel('JF pixel')\n",
    "plt.ylabel('JF pixel')\n",
    "plt.title('XES_MONO')\n",
    "plt.colorbar()"
   ]
  },
  {
   "cell_type": "code",
   "execution_count": null,
   "metadata": {
    "collapsed": true
   },
   "outputs": [],
   "source": [
    "plt.figure()\n",
    "plt.plot(XES_sum_01,label=\"XES_PINK\")\n",
    "plt.plot(XES_sum_02,label=\"XES_MONO\")\n",
    "plt.plot(XES_sum_01-XES_sum_02,label=\"Diffence\")\n",
    "plt.xlabel('JF pixel')\n",
    "plt.title('XES difference')\n",
    "plt.xlabel('JF Pixel')\n",
    "plt.ylabel('Counts of Some type')\n",
    "\n",
    "plt.legend()\n",
    "\n",
    "plt.xlim([0,200])"
   ]
  },
  {
   "cell_type": "code",
   "execution_count": null,
   "metadata": {
    "collapsed": true
   },
   "outputs": [],
   "source": []
  }
 ],
 "metadata": {
  "kernelspec": {
   "display_name": "Python [conda env:dev]",
   "language": "python",
   "name": "conda-env-dev-py"
  },
  "language_info": {
   "codemirror_mode": {
    "name": "ipython",
    "version": 3
   },
   "file_extension": ".py",
   "mimetype": "text/x-python",
   "name": "python",
   "nbconvert_exporter": "python",
   "pygments_lexer": "ipython3",
   "version": "3.6.7"
  }
 },
 "nbformat": 4,
 "nbformat_minor": 2
}
