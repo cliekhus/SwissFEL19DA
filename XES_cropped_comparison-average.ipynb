{
 "cells": [
  {
   "cell_type": "code",
   "execution_count": 1,
   "metadata": {
    "collapsed": true
   },
   "outputs": [],
   "source": [
    "import sys\n",
    "sys.path.insert(0, '/das/work/p17/p17983/')"
   ]
  },
  {
   "cell_type": "code",
   "execution_count": 2,
   "metadata": {},
   "outputs": [
    {
     "name": "stdout",
     "output_type": "stream",
     "text": [
      "[INFO][corrections] Numba not available, reverting to Numpy\n"
     ]
    }
   ],
   "source": [
    "%matplotlib nbagg\n",
    "import jungfrau_utils as ju\n",
    "import numpy as np\n",
    "import json\n",
    "import os\n",
    "import time\n",
    "from matplotlib import pyplot as plt\n",
    "from scipy.optimize import curve_fit\n",
    "\n",
    "import h5py\n",
    "\n",
    "from alvra_tools.load_data import *\n",
    "from alvra_tools.channels import *"
   ]
  },
  {
   "cell_type": "code",
   "execution_count": 3,
   "metadata": {
    "collapsed": true,
    "scrolled": true
   },
   "outputs": [],
   "source": [
    "def get_xes(filename, DIR, DIRBS, roi):\n",
    "    numstds = 2\n",
    "    minIzero = 0.002\n",
    "    image_threshold = 1.5\n",
    "    hot_pixel = 7.5\n",
    "\n",
    "#     filename = \"Ru_foil_monoscan_001_step0010\"\n",
    "\n",
    "\n",
    "    images, _ = load_JF_cropped_data(DIR + filename + \".JF02T09V02crop.h5\" , roi, nshots=None)\n",
    "\n",
    "    print(DIR + filename + \".JF02T09V02crop.h5\")\n",
    "    print(DIRBS + filename + \".BSREAD.h5\")\n",
    "\n",
    "    (_, _, IzeroFEL, _, _, _, Energy, _, _, _ )\\\n",
    "        = load_PumpProbe_events_withTwoVariables(DIRBS + filename + \".BSREAD.h5\", channel_BS_pulse_ids, channel_energy)\n",
    "\n",
    "    total = 0\n",
    "\n",
    "\n",
    "    IzeroMedian = np.median(IzeroFEL)\n",
    "    IzeroSTD = np.std(IzeroFEL)\n",
    "\n",
    "    nframes = images.shape\n",
    "\n",
    "    IzeroMedian = np.median(IzeroFEL)\n",
    "    IzeroSTD = np.std(IzeroFEL)\n",
    "\n",
    "    print('number of frames')\n",
    "    print(nframes)\n",
    "\n",
    "    images_good = images\n",
    "\n",
    "    images_thr = images_good.copy()\n",
    "    images_thr[images_good < image_threshold] = 0\n",
    "    images_thr[images_good > hot_pixel] = 0\n",
    "\n",
    "    conditionMax = IzeroFEL < IzeroMedian+numstds*IzeroSTD\n",
    "    conditionMin = IzeroFEL > IzeroMedian-numstds*IzeroSTD\n",
    "    conditionLow = IzeroFEL > minIzero\n",
    "    condition = np.logical_and.reduce((conditionLow, conditionMin, conditionMax)).T[0]\n",
    "\n",
    "    images_thr = images_thr[condition]\n",
    "\n",
    "    print('number of surviving frames')\n",
    "    print(images_thr.shape[0])\n",
    "\n",
    "    XES = images_thr.sum(axis=0)/images_thr.shape[0]\n",
    "\n",
    "    print(\"XES size\")\n",
    "    print(XES.shape)\n",
    "\n",
    "    return XES\n"
   ]
  },
  {
   "cell_type": "code",
   "execution_count": 4,
   "metadata": {},
   "outputs": [
    {
     "name": "stdout",
     "output_type": "stream",
     "text": [
      "images_roi3\n",
      "<KeysViewHDF5 ['coords_roi1', 'coords_roi2', 'coords_roi3', 'coords_roi4', 'images_roi1', 'images_roi2', 'images_roi3', 'images_roi4', 'pulse_ids']>\n",
      "/das/work/p17/p17983/cropped_data/Ru_foil_XES_3keV_001.JF02T09V02crop.h5\n",
      "/sf/alvra/data/p17983/raw/Ru_foil_XES_3keV_001.BSREAD.h5\n",
      "number of frames\n",
      "(2000, 512, 800)\n",
      "number of surviving frames\n",
      "1908\n",
      "XES size\n",
      "(512, 800)\n"
     ]
    }
   ],
   "source": [
    "filename = \"Ru_foil_XES_3keV_001\"\n",
    "# scan_name = \"Ru_foil_monoscan_001\"\n",
    "DIR = \"/das/work/p17/p17983/cropped_data/\"#scan_data/\" + scan_name + \"/\"\n",
    "\n",
    "DIRBS = \"/sf/alvra/data/p17983/raw/\"#scan_data/Ru_foil_monoscan_001/\"\n",
    "XES_01 = get_xes(filename, DIR, DIRBS, 3)"
   ]
  },
  {
   "cell_type": "code",
   "execution_count": 5,
   "metadata": {
    "scrolled": false
   },
   "outputs": [
    {
     "name": "stdout",
     "output_type": "stream",
     "text": [
      "images_roi3\n",
      "<KeysViewHDF5 ['coords_roi1', 'coords_roi2', 'coords_roi3', 'coords_roi4', 'images_roi1', 'images_roi2', 'images_roi3', 'images_roi4', 'pulse_ids']>\n"
     ]
    },
    {
     "ename": "KeyboardInterrupt",
     "evalue": "",
     "output_type": "error",
     "traceback": [
      "\u001b[0;31m---------------------------------------------------------------------------\u001b[0m",
      "\u001b[0;31mKeyboardInterrupt\u001b[0m                         Traceback (most recent call last)",
      "\u001b[0;32m<ipython-input-5-493633b23727>\u001b[0m in \u001b[0;36m<module>\u001b[0;34m\u001b[0m\n\u001b[1;32m      6\u001b[0m     \u001b[0mDIR\u001b[0m \u001b[0;34m=\u001b[0m \u001b[0;34m\"/das/work/p17/p17983/cropped_data/Ru-foil/\"\u001b[0m\u001b[0;31m#scan_data/\" + scan_name + \"/\"\u001b[0m\u001b[0;34m\u001b[0m\u001b[0;34m\u001b[0m\u001b[0m\n\u001b[1;32m      7\u001b[0m     \u001b[0mDIRBS\u001b[0m \u001b[0;34m=\u001b[0m \u001b[0;34m\"/sf/alvra/data/p17983/raw/Ru-foil/\"\u001b[0m\u001b[0;31m#scan_data/Ru_foil_monoscan_001/\"\u001b[0m\u001b[0;34m\u001b[0m\u001b[0;34m\u001b[0m\u001b[0m\n\u001b[0;32m----> 8\u001b[0;31m     \u001b[0mxes_02\u001b[0m \u001b[0;34m=\u001b[0m \u001b[0mget_xes\u001b[0m\u001b[0;34m(\u001b[0m\u001b[0mfilename\u001b[0m\u001b[0;34m,\u001b[0m \u001b[0mDIR\u001b[0m\u001b[0;34m,\u001b[0m \u001b[0mDIRBS\u001b[0m\u001b[0;34m,\u001b[0m \u001b[0;36m3\u001b[0m\u001b[0;34m)\u001b[0m\u001b[0;34m\u001b[0m\u001b[0;34m\u001b[0m\u001b[0m\n\u001b[0m\u001b[1;32m      9\u001b[0m \u001b[0;34m\u001b[0m\u001b[0m\n\u001b[1;32m     10\u001b[0m     \u001b[0mprint\u001b[0m\u001b[0;34m(\u001b[0m\u001b[0mii\u001b[0m\u001b[0;34m)\u001b[0m\u001b[0;34m\u001b[0m\u001b[0;34m\u001b[0m\u001b[0m\n",
      "\u001b[0;32m<ipython-input-3-f2f90374128e>\u001b[0m in \u001b[0;36mget_xes\u001b[0;34m(filename, DIR, DIRBS, roi)\u001b[0m\n\u001b[1;32m      8\u001b[0m \u001b[0;34m\u001b[0m\u001b[0m\n\u001b[1;32m      9\u001b[0m \u001b[0;34m\u001b[0m\u001b[0m\n\u001b[0;32m---> 10\u001b[0;31m     \u001b[0mimages\u001b[0m\u001b[0;34m,\u001b[0m \u001b[0m_\u001b[0m \u001b[0;34m=\u001b[0m \u001b[0mload_JF_cropped_data\u001b[0m\u001b[0;34m(\u001b[0m\u001b[0mDIR\u001b[0m \u001b[0;34m+\u001b[0m \u001b[0mfilename\u001b[0m \u001b[0;34m+\u001b[0m \u001b[0;34m\".JF02T09V02crop.h5\"\u001b[0m \u001b[0;34m,\u001b[0m \u001b[0mroi\u001b[0m\u001b[0;34m,\u001b[0m \u001b[0mnshots\u001b[0m\u001b[0;34m=\u001b[0m\u001b[0;32mNone\u001b[0m\u001b[0;34m)\u001b[0m\u001b[0;34m\u001b[0m\u001b[0;34m\u001b[0m\u001b[0m\n\u001b[0m\u001b[1;32m     11\u001b[0m \u001b[0;34m\u001b[0m\u001b[0m\n\u001b[1;32m     12\u001b[0m     \u001b[0mprint\u001b[0m\u001b[0;34m(\u001b[0m\u001b[0mDIR\u001b[0m \u001b[0;34m+\u001b[0m \u001b[0mfilename\u001b[0m \u001b[0;34m+\u001b[0m \u001b[0;34m\".JF02T09V02crop.h5\"\u001b[0m\u001b[0;34m)\u001b[0m\u001b[0;34m\u001b[0m\u001b[0;34m\u001b[0m\u001b[0m\n",
      "\u001b[0;32m/das/work/p17/p17983/alvra_tools/load_data.py\u001b[0m in \u001b[0;36mload_JF_cropped_data\u001b[0;34m(fname, roi, nshots)\u001b[0m\n\u001b[1;32m     99\u001b[0m         \u001b[0mprint\u001b[0m\u001b[0;34m(\u001b[0m\u001b[0mf\u001b[0m\u001b[0;34m.\u001b[0m\u001b[0mkeys\u001b[0m\u001b[0;34m(\u001b[0m\u001b[0;34m)\u001b[0m\u001b[0;34m)\u001b[0m\u001b[0;34m\u001b[0m\u001b[0;34m\u001b[0m\u001b[0m\n\u001b[1;32m    100\u001b[0m \u001b[0;34m\u001b[0m\u001b[0m\n\u001b[0;32m--> 101\u001b[0;31m         \u001b[0mpulse_ids\u001b[0m \u001b[0;34m=\u001b[0m \u001b[0mf\u001b[0m\u001b[0;34m[\u001b[0m\u001b[0;34mf\"images_roi{roi}\"\u001b[0m\u001b[0;34m]\u001b[0m\u001b[0;34m[\u001b[0m\u001b[0;34m:\u001b[0m\u001b[0mnshots\u001b[0m\u001b[0;34m]\u001b[0m\u001b[0;34m\u001b[0m\u001b[0;34m\u001b[0m\u001b[0m\n\u001b[0m\u001b[1;32m    102\u001b[0m         \u001b[0mimages\u001b[0m    \u001b[0;34m=\u001b[0m \u001b[0mf\u001b[0m\u001b[0;34m[\u001b[0m\u001b[0;34mf\"images_roi{roi}\"\u001b[0m\u001b[0;34m]\u001b[0m\u001b[0;34m[\u001b[0m\u001b[0;34m:\u001b[0m\u001b[0mnshots\u001b[0m\u001b[0;34m]\u001b[0m\u001b[0;34m\u001b[0m\u001b[0;34m\u001b[0m\u001b[0m\n\u001b[1;32m    103\u001b[0m \u001b[0;34m\u001b[0m\u001b[0m\n",
      "\u001b[0;32mh5py/_objects.pyx\u001b[0m in \u001b[0;36mh5py._objects.with_phil.wrapper\u001b[0;34m()\u001b[0m\n",
      "\u001b[0;32mh5py/_objects.pyx\u001b[0m in \u001b[0;36mh5py._objects.with_phil.wrapper\u001b[0;34m()\u001b[0m\n",
      "\u001b[0;32m/sf/alvra/anaconda/dev/lib/python3.6/site-packages/h5py/_hl/dataset.py\u001b[0m in \u001b[0;36m__getitem__\u001b[0;34m(self, args)\u001b[0m\n\u001b[1;32m    571\u001b[0m         \u001b[0mmspace\u001b[0m \u001b[0;34m=\u001b[0m \u001b[0mh5s\u001b[0m\u001b[0;34m.\u001b[0m\u001b[0mcreate_simple\u001b[0m\u001b[0;34m(\u001b[0m\u001b[0mmshape\u001b[0m\u001b[0;34m)\u001b[0m\u001b[0;34m\u001b[0m\u001b[0;34m\u001b[0m\u001b[0m\n\u001b[1;32m    572\u001b[0m         \u001b[0mfspace\u001b[0m \u001b[0;34m=\u001b[0m \u001b[0mselection\u001b[0m\u001b[0;34m.\u001b[0m\u001b[0mid\u001b[0m\u001b[0;34m\u001b[0m\u001b[0;34m\u001b[0m\u001b[0m\n\u001b[0;32m--> 573\u001b[0;31m         \u001b[0mself\u001b[0m\u001b[0;34m.\u001b[0m\u001b[0mid\u001b[0m\u001b[0;34m.\u001b[0m\u001b[0mread\u001b[0m\u001b[0;34m(\u001b[0m\u001b[0mmspace\u001b[0m\u001b[0;34m,\u001b[0m \u001b[0mfspace\u001b[0m\u001b[0;34m,\u001b[0m \u001b[0marr\u001b[0m\u001b[0;34m,\u001b[0m \u001b[0mmtype\u001b[0m\u001b[0;34m,\u001b[0m \u001b[0mdxpl\u001b[0m\u001b[0;34m=\u001b[0m\u001b[0mself\u001b[0m\u001b[0;34m.\u001b[0m\u001b[0m_dxpl\u001b[0m\u001b[0;34m)\u001b[0m\u001b[0;34m\u001b[0m\u001b[0;34m\u001b[0m\u001b[0m\n\u001b[0m\u001b[1;32m    574\u001b[0m \u001b[0;34m\u001b[0m\u001b[0m\n\u001b[1;32m    575\u001b[0m         \u001b[0;31m# Patch up the output for NumPy\u001b[0m\u001b[0;34m\u001b[0m\u001b[0;34m\u001b[0m\u001b[0;34m\u001b[0m\u001b[0m\n",
      "\u001b[0;31mKeyboardInterrupt\u001b[0m: "
     ]
    }
   ],
   "source": [
    "for ii in range(406-386+1):\n",
    "\n",
    "\n",
    "    filename = \"run_000\" + str(386+ii)\n",
    "    # scan_name = \"Ru_foil_monoscan_001\"\n",
    "    DIR = \"/das/work/p17/p17983/cropped_data/Ru-foil/\"#scan_data/\" + scan_name + \"/\"\n",
    "    DIRBS = \"/sf/alvra/data/p17983/raw/Ru-foil/\"#scan_data/Ru_foil_monoscan_001/\"\n",
    "    xes_02 = get_xes(filename, DIR, DIRBS, 3)\n",
    "    \n",
    "    print(ii)\n",
    "    \n",
    "    if ii == 0:\n",
    "        XES_sum_02 = xes_sum_02\n",
    "    else:\n",
    "        XES_sum_02 += xes_sum_02\n",
    "    \n",
    "    \n",
    "    "
   ]
  },
  {
   "cell_type": "code",
   "execution_count": null,
   "metadata": {},
   "outputs": [],
   "source": [
    "plt.figure()\n",
    "plt.imshow(XES_01, vmax = 0.1, vmin = 0)\n",
    "plt.xlabel('JF pixel')\n",
    "plt.ylabel('JF pixel')\n",
    "plt.title('XES_PINK')\n",
    "plt.colorbar()"
   ]
  },
  {
   "cell_type": "code",
   "execution_count": null,
   "metadata": {},
   "outputs": [],
   "source": [
    "plt.figure()\n",
    "plt.imshow(XES_02, vmax = 0.1, vmin = 0)\n",
    "plt.xlabel('JF pixel')\n",
    "plt.ylabel('JF pixel')\n",
    "plt.title('XES_MONO')\n",
    "plt.colorbar()"
   ]
  },
  {
   "cell_type": "code",
   "execution_count": null,
   "metadata": {},
   "outputs": [],
   "source": [
    "plt.figure()\n",
    "plt.plot(XES_01.sum(axis=0),label=\"XES_PINK\")\n",
    "plt.plot(XES_02.sum(axis=0),label=\"XES_MONO\")\n",
    "plt.xlabel('JF pixel')\n",
    "plt.title('XES difference')\n",
    "plt.xlabel('JF Pixel')\n",
    "plt.ylabel('Counts of Some type')\n",
    "\n",
    "plt.legend()\n",
    "\n",
    "#plt.xlim([0,200])"
   ]
  },
  {
   "cell_type": "code",
   "execution_count": null,
   "metadata": {
    "collapsed": true
   },
   "outputs": [],
   "source": []
  }
 ],
 "metadata": {
  "kernelspec": {
   "display_name": "Python [conda env:dev]",
   "language": "python",
   "name": "conda-env-dev-py"
  },
  "language_info": {
   "codemirror_mode": {
    "name": "ipython",
    "version": 3
   },
   "file_extension": ".py",
   "mimetype": "text/x-python",
   "name": "python",
   "nbconvert_exporter": "python",
   "pygments_lexer": "ipython3",
   "version": "3.6.7"
  }
 },
 "nbformat": 4,
 "nbformat_minor": 2
}
