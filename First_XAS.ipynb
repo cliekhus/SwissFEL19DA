{
 "cells": [
  {
   "cell_type": "code",
   "execution_count": 1,
   "metadata": {
    "collapsed": true
   },
   "outputs": [],
   "source": [
    "import sys\n",
    "sys.path.insert(0, '/das/work/p17/p17983/')"
   ]
  },
  {
   "cell_type": "code",
   "execution_count": 2,
   "metadata": {},
   "outputs": [
    {
     "name": "stdout",
     "output_type": "stream",
     "text": [
      "[INFO][corrections] Numba not available, reverting to Numpy\n"
     ]
    }
   ],
   "source": [
    "%matplotlib nbagg\n",
    "import numpy as np\n",
    "import json\n",
    "import os\n",
    "from matplotlib import pyplot as plt\n",
    "from scipy.optimize import curve_fit\n",
    "\n",
    "from alvra_tools.load_data import *\n",
    "from alvra_tools.channels import *\n",
    "from alvra_tools.utils import errfunc_sigma, errfunc_fwhm"
   ]
  },
  {
   "cell_type": "code",
   "execution_count": 3,
   "metadata": {
    "collapsed": true
   },
   "outputs": [],
   "source": [
    "ploton = True\n",
    "\n",
    "scan_name = \"RuBpy3_monoscan_001\"\n",
    "scan_name = \"Ru_foil_monoscan_003\"\n",
    "\n",
    "scan_name = \"RuBpy3_monoscan_014\"\n",
    "# sf/alvra/data/p17983/raw/scan_data/Ru_foil_monoscan_001/\n",
    "DIR = \"/sf/alvra/data/p17983/raw/scan_data/\" + scan_name + \"/\"\n",
    "# DIR_json = \"/das/work/p17/p17983/Example_data/res/scan_info/\"\n",
    "DIR_json = \"/sf/alvra/data/p17983/res/scan_info/\""
   ]
  },
  {
   "cell_type": "markdown",
   "metadata": {},
   "source": [
    "Set up the filters.  \"numstds\" is the number of standard deviations to take from the median."
   ]
  },
  {
   "cell_type": "code",
   "execution_count": 4,
   "metadata": {
    "scrolled": false
   },
   "outputs": [
    {
     "name": "stdout",
     "output_type": "stream",
     "text": [
      "/sf/alvra/data/p17983/res/scan_info/RuBpy3_monoscan_014_scan_info.json\n",
      "Processing 55 files\n"
     ]
    },
    {
     "ename": "AttributeError",
     "evalue": "module 'numpy' has no attribute 'empy'",
     "output_type": "error",
     "traceback": [
      "\u001b[0;31m---------------------------------------------------------------------------\u001b[0m",
      "\u001b[0;31mAttributeError\u001b[0m                            Traceback (most recent call last)",
      "\u001b[0;32m<ipython-input-4-6efaeadb1989>\u001b[0m in \u001b[0;36m<module>\u001b[0;34m\u001b[0m\n\u001b[1;32m     28\u001b[0m \u001b[0;34m\u001b[0m\u001b[0m\n\u001b[1;32m     29\u001b[0m \u001b[0mnoise_preFilter_pump\u001b[0m \u001b[0;34m=\u001b[0m \u001b[0mnp\u001b[0m\u001b[0;34m.\u001b[0m\u001b[0mempty\u001b[0m\u001b[0;34m(\u001b[0m\u001b[0;36m0\u001b[0m\u001b[0;34m)\u001b[0m\u001b[0;34m\u001b[0m\u001b[0;34m\u001b[0m\u001b[0m\n\u001b[0;32m---> 30\u001b[0;31m \u001b[0mnoise_noLinFilt_pump\u001b[0m \u001b[0;34m=\u001b[0m \u001b[0mnp\u001b[0m\u001b[0;34m.\u001b[0m\u001b[0mempy\u001b[0m\u001b[0;34m(\u001b[0m\u001b[0;36m0\u001b[0m\u001b[0;34m)\u001b[0m\u001b[0;34m\u001b[0m\u001b[0;34m\u001b[0m\u001b[0m\n\u001b[0m\u001b[1;32m     31\u001b[0m \u001b[0mnoise_withLin_pump\u001b[0m \u001b[0;34m=\u001b[0m \u001b[0mnp\u001b[0m\u001b[0;34m.\u001b[0m\u001b[0mempty\u001b[0m\u001b[0;34m(\u001b[0m\u001b[0;36m0\u001b[0m\u001b[0;34m)\u001b[0m\u001b[0;34m\u001b[0m\u001b[0;34m\u001b[0m\u001b[0m\n\u001b[1;32m     32\u001b[0m \u001b[0;34m\u001b[0m\u001b[0m\n",
      "\u001b[0;31mAttributeError\u001b[0m: module 'numpy' has no attribute 'empy'"
     ]
    }
   ],
   "source": [
    "numstds = 3\n",
    "minIzero = 0.025\n",
    "lin_filter = 0.1\n",
    "\n",
    "json_file = DIR_json + scan_name + \"_scan_info.json\"\n",
    "print (json_file)\n",
    "\n",
    "with open(json_file) as file:\n",
    "    data = json.load(file)\n",
    "numFiles = len(data['scan_files'])\n",
    "\n",
    "print (\"Processing\",numFiles,\"files\")\n",
    "\n",
    "DataFluo_pump_norm_total = np.empty(0)\n",
    "DataFluo_unpump_norm_total = np.empty(0)\n",
    "err_DataFluo_pump_total = np.empty(0)\n",
    "err_DataFluo_unpump_total = np.empty(0)\n",
    "\n",
    "IzeroFEL_pump_original_total = np.empty(0)\n",
    "IzeroFEL_pump_total = np.empty(0)\n",
    "IzeroFEL_unpump_original_total = np.empty(0)\n",
    "IzeroFEL_unpump_total = np.empty(0)\n",
    "\n",
    "DataFluo_pump_original_total = np.empty(0)\n",
    "DataFluo_pump_total = np.empty(0)\n",
    "DataFluo_unpump_original_total = np.empty(0)\n",
    "DataFluo_unpump_total = np.empty(0)\n",
    "\n",
    "noise_preFilter_pump = np.empty(0)\n",
    "noise_noLinFilt_pump = np.empy(0)\n",
    "noise_withLin_pump = np.empty(0)\n",
    "\n",
    "Energy_eV = np.empty(0)\n",
    "iZero = np.empty(0)\n",
    "\n",
    "for i in range(0,numFiles):\n",
    "#for i in range(0,1):\n",
    "    filename = str(data['scan_files'][i][0])\n",
    "    filename = DIR + os.path.basename(filename)\n",
    "    exists = os.path.isfile(filename)\n",
    "    if not exists:\n",
    "        print(\"No such file\")\n",
    "    elif exists and i!=39: #Do we need this 39?\n",
    "#         print(\"step\",i+1,\"of\",numFiles,\": Processing %s\" %(str(data['scan_files'][i][0])))\n",
    "        \n",
    "        (DataFluo_pump, DataFluo_unpump, IzeroFEL_pump, IzeroFEL_unpump, Energy, _, _, _) = \\\n",
    "            load_PumpProbe_events(filename, channel_energy)\n",
    "\n",
    "        IzeroFEL_pump_original = IzeroFEL_pump.copy()\n",
    "        IzeroFEL_unpump_original = IzeroFEL_unpump.copy()\n",
    "        \n",
    "        IzeroFEL_pump_original_total = np.append(IzeroFEL_pump_original_total, IzeroFEL_pump_original)\n",
    "        IzeroFEL_unpump_original_total = np.append(IzeroFEL_unpump_original_total, IzeroFEL_unpump_original)\n",
    "        \n",
    "        DataFluo_pump_original_total = np.append(DataFluo_pump_original_total, DataFluo_pump)\n",
    "        DataFluo_unpump_original_total = np.append(DataFluo_unpump_original_total, DataFluo_unpump)\n",
    "        \n",
    "        IzeroMedian = np.median(np.concatenate([IzeroFEL_pump, IzeroFEL_unpump]))\n",
    "        IzeroSTD = np.std(np.concatenate([IzeroFEL_pump, IzeroFEL_unpump]))\n",
    "        \n",
    "\n",
    "#         print(IzeroFEL_pump.T[0])\n",
    "        \n",
    "        \n",
    "#         print(linFit_pump)\n",
    "#         print(i)\n",
    "        \n",
    "\n",
    "        \n",
    "    \n",
    "        if i == 25:\n",
    "            DataFluo_pump_temp = DataFluo_pump\n",
    "            IzeroFEL_pump_temp = IzeroFEL_pump\n",
    "        \n",
    "        \n",
    "        #apply filter to points which are not linear\n",
    "        linFit_pump = np.polyfit(IzeroFEL_pump.T[0],DataFluo_pump.T[0],1)\n",
    "        linFit_unpump = np.polyfit(IzeroFEL_unpump.T[0],DataFluo_unpump.T[0],1)\n",
    "        \n",
    "        conditionPumpLinHigh =  DataFluo_pump < IzeroFEL_pump*linFit_pump[0]+linFit_pump[1]+lin_filter\n",
    "        conditionPumpLinLow =  DataFluo_pump > IzeroFEL_pump*linFit_pump[0]+linFit_pump[1]-lin_filter\n",
    "        \n",
    "        conditionUnPumpLinHigh =  DataFluo_unpump < IzeroFEL_unpump*linFit_unpump[0]+linFit_unpump[1]+lin_filter\n",
    "        conditionUnPumpLinLow =  DataFluo_unpump > IzeroFEL_unpump*linFit_unpump[0]+linFit_unpump[1]-lin_filter\n",
    "        \n",
    "        IzeroMedian+numstds*IzeroSTD\n",
    "        \n",
    "        conditionPumpMax = IzeroFEL_pump < IzeroMedian+numstds*IzeroSTD\n",
    "        conditionPumpMin = IzeroFEL_pump > IzeroMedian-numstds*IzeroSTD\n",
    "        conditionPumpLow = IzeroFEL_pump > minIzero\n",
    "\n",
    "        conditionUnPumpMax = IzeroFEL_unpump < IzeroMedian+numstds*IzeroSTD\n",
    "        conditionUnPumpMin = IzeroFEL_unpump > IzeroMedian-numstds*IzeroSTD\n",
    "        conditionUnPumpLow = IzeroFEL_unpump > minIzero\n",
    "\n",
    "        condIzeroPump = conditionPumpMax & conditionPumpMin & conditionPumpLow & conditionPumpLinHigh & conditionPumpLinLow\n",
    "        condIzeroUnPump = conditionUnPumpMax & conditionUnPumpMin & conditionUnPumpLow & conditionUnPumpLinHigh & conditionUnPumpLinLow\n",
    "        \n",
    "        IzeroFEL_pump = IzeroFEL_pump[condIzeroPump]\n",
    "        IzeroFEL_unpump = IzeroFEL_unpump[condIzeroUnPump]\n",
    "        \n",
    "        IzeroFEL_pump_total = np.append(IzeroFEL_pump_total, IzeroFEL_pump)\n",
    "        IzeroFEL_unpump_total = np.append(IzeroFEL_unpump_total, IzeroFEL_unpump)\n",
    "        \n",
    "        DataFluo_pump = DataFluo_pump[condIzeroPump]\n",
    "        DataFluo_unpump = DataFluo_unpump[condIzeroUnPump]\n",
    "        \n",
    "        \n",
    "        \n",
    "        \n",
    "        \n",
    "        if i == 25:   # feel free to elmnate this if statement and following line\n",
    "            \n",
    "            plt.figure()\n",
    "            plt.scatter(IzeroFEL_pump_temp, DataFluo_pump_temp)\n",
    "            plt.scatter(IzeroFEL_pump, DataFluo_pump)\n",
    "            plt.title('Izero, pumped')\n",
    "            plt.xlabel('I0')\n",
    "            plt.ylabel('Absorption')\n",
    "            print(DataFluo_pump_total.shape)\n",
    "        \n",
    "        \n",
    "        \n",
    "#         DataFluo_pump = DataFluo_pump[condIzeroPump]\n",
    "#         DataFluo_unpump = DataFluo_unpump[condIzeroUnPump]\n",
    "        \n",
    "        DataFluo_pump_total = np.append(DataFluo_pump_total, DataFluo_pump)\n",
    "        DataFluo_unpump_total = np.append(DataFluo_unpump_total, DataFluo_unpump)\n",
    "        \n",
    "        DataFluo_pump_norm = DataFluo_pump/IzeroFEL_pump\n",
    "        DataFluo_unpump_norm = DataFluo_unpump/IzeroFEL_unpump\n",
    "        \n",
    "        DataFluo_pump_norm_total = np.append(DataFluo_pump_norm_total, DataFluo_pump_norm.mean())\n",
    "        DataFluo_unpump_norm_total = np.append(DataFluo_unpump_norm_total, DataFluo_unpump_norm.mean())\n",
    "        err_DataFluo_pump_total = np.append(err_DataFluo_pump_total, DataFluo_pump_norm.std()/np.sqrt(DataFluo_pump_norm.size))\n",
    "        err_DataFluo_unpump_total = np.append(err_DataFluo_unpump_total, DataFluo_unpump_norm.std()/np.sqrt(DataFluo_unpump_norm.size))\n",
    "        \n",
    "        Energy = [x for x in Energy if (np.abs(x) > 0)]\n",
    "        Energy_eV = np.append(Energy_eV, np.mean(Energy))\n",
    "        iZero = np.append(iZero, np.mean(IzeroFEL_pump_total))\n",
    "        "
   ]
  },
  {
   "cell_type": "markdown",
   "metadata": {},
   "source": [
    "Plot some diagnostics"
   ]
  },
  {
   "cell_type": "code",
   "execution_count": null,
   "metadata": {
    "scrolled": false
   },
   "outputs": [],
   "source": [
    "print(\"The original number of pumped and unpumped shots is:\")\n",
    "print(IzeroFEL_pump_original_total.shape, IzeroFEL_unpump_original_total.shape)\n",
    "print(\"The filtered number of pumped and unpumped shots is:\")\n",
    "print(IzeroFEL_pump_total.shape, IzeroFEL_unpump_total.shape)\n",
    "\n",
    "plt.figure()\n",
    "_, bins, _ = plt.hist(IzeroFEL_pump_original_total, 100, label = 'unfiltered')\n",
    "_ = plt.hist(IzeroFEL_pump_total, bins, rwidth = .5, label = 'filtered')\n",
    "plt.title('Izero, pumped')\n",
    "plt.legend()\n",
    "\n",
    "plt.figure()\n",
    "_, bins, _ = plt.hist(IzeroFEL_unpump_original_total, 100, label = 'unfiltered')\n",
    "_ = plt.hist(IzeroFEL_unpump_total, bins, rwidth = .5, label = 'filtered')\n",
    "plt.title('Izero, unpumped')\n",
    "plt.legend()"
   ]
  },
  {
   "cell_type": "code",
   "execution_count": null,
   "metadata": {
    "scrolled": false
   },
   "outputs": [],
   "source": [
    "plt.figure()\n",
    "plt.scatter(IzeroFEL_pump_original_total, DataFluo_pump_original_total)\n",
    "plt.scatter(IzeroFEL_pump_total, DataFluo_pump_total)\n",
    "plt.title('Izero, pumped')\n",
    "plt.xlabel('I0')\n",
    "plt.ylabel('Absorption')\n",
    "print(DataFluo_pump_total.shape)"
   ]
  },
  {
   "cell_type": "code",
   "execution_count": null,
   "metadata": {},
   "outputs": [],
   "source": [
    "plt.figure()\n",
    "plt.scatter(IzeroFEL_pump_original_total, DataFluo_pump_original_total)\n",
    "plt.scatter(IzeroFEL_pump_total, DataFluo_pump_total)\n",
    "plt.title('Izero, pumped')\n",
    "plt.xlabel('I0')\n",
    "plt.ylabel('Absorption')\n",
    "print(DataFluo_pump_total.shape)"
   ]
  },
  {
   "cell_type": "code",
   "execution_count": null,
   "metadata": {},
   "outputs": [],
   "source": [
    "plt.figure()\n",
    "plt.plot(np.array(Energy_eV), DataFluo_pump_norm_total,label='Pumped')\n",
    "# plt.plot(np.array(Energy_eV), DataFluo_unpump_norm_total,label='UnPumped')\n",
    "plt.plot(np.array(Energy_eV), np.array(iZero)*50,label=\"I_zero_Arb\")\n",
    "plt.xlabel('energy (eV)')\n",
    "plt.ylabel('absorption')\n",
    "plt.title('XAS_'+ scan_name)\n",
    "plt.legend()\n",
    "\n",
    "print(DataFluo_pump_norm_total.shape)"
   ]
  },
  {
   "cell_type": "code",
   "execution_count": null,
   "metadata": {},
   "outputs": [],
   "source": [
    "print(np.array(Energy_eV))\n",
    "\n",
    "print(DataFluo_pump_norm_total)\n",
    "DataFluo_pump_norm_total"
   ]
  },
  {
   "cell_type": "code",
   "execution_count": null,
   "metadata": {
    "collapsed": true
   },
   "outputs": [],
   "source": []
  }
 ],
 "metadata": {
  "kernelspec": {
   "display_name": "Python [conda env:dev]",
   "language": "python",
   "name": "conda-env-dev-py"
  },
  "language_info": {
   "codemirror_mode": {
    "name": "ipython",
    "version": 3
   },
   "file_extension": ".py",
   "mimetype": "text/x-python",
   "name": "python",
   "nbconvert_exporter": "python",
   "pygments_lexer": "ipython3",
   "version": "3.6.7"
  }
 },
 "nbformat": 4,
 "nbformat_minor": 2
}
